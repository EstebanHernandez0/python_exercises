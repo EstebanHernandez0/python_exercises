{
 "cells": [
  {
   "cell_type": "code",
   "execution_count": 1,
   "id": "fc89e13a",
   "metadata": {},
   "outputs": [
    {
     "name": "stdout",
     "output_type": "stream",
     "text": [
      "Here is a single quote --> ' <-- \n",
      "Here is a single quote --> ' <-- \n",
      "\n",
      "Here is a double quote --> \" <--\n",
      "Here is a double quote --> \" <--\n",
      "\n",
      "Newlines are indicated by the character \"n\" preceded by a backslash, like so\n",
      "\n",
      "This string\n",
      "contains a newline\n"
     ]
    }
   ],
   "source": [
    "print('Here is a single quote --> \\' <-- ')\n",
    "print(\"Here is a single quote --> ' <-- \")\n",
    "print()\n",
    "print(\"Here is a double quote --> \\\" <--\")\n",
    "print('Here is a double quote --> \" <--')\n",
    "print()\n",
    "print('Newlines are indicated by the character \"n\" preceded by a backslash, like so')\n",
    "print()\n",
    "print('This string\\ncontains a newline')\n"
   ]
  },
  {
   "cell_type": "code",
   "execution_count": 2,
   "id": "5e7ec810",
   "metadata": {},
   "outputs": [
    {
     "data": {
      "text/plain": [
       "'\\nThis string\\ncan contain\\na lot of\\ntext!\\n'"
      ]
     },
     "execution_count": 2,
     "metadata": {},
     "output_type": "execute_result"
    }
   ],
   "source": [
    "'''\n",
    "This string\n",
    "can contain\n",
    "a lot of\n",
    "text!\n",
    "'''\n"
   ]
  },
  {
   "cell_type": "code",
   "execution_count": 3,
   "id": "ae560c40",
   "metadata": {},
   "outputs": [
    {
     "data": {
      "text/plain": [
       "True"
      ]
     },
     "execution_count": 3,
     "metadata": {},
     "output_type": "execute_result"
    }
   ],
   "source": [
    "'hello' == 'hello'"
   ]
  },
  {
   "cell_type": "code",
   "execution_count": 4,
   "id": "a3d80b27",
   "metadata": {},
   "outputs": [
    {
     "data": {
      "text/plain": [
       "'abcdef'"
      ]
     },
     "execution_count": 4,
     "metadata": {},
     "output_type": "execute_result"
    }
   ],
   "source": [
    "'abc' + 'def'"
   ]
  },
  {
   "cell_type": "code",
   "execution_count": 6,
   "id": "9fac12c8",
   "metadata": {},
   "outputs": [
    {
     "data": {
      "text/plain": [
       "'abc abc abc '"
      ]
     },
     "execution_count": 6,
     "metadata": {},
     "output_type": "execute_result"
    }
   ],
   "source": [
    "'abc ' * 3"
   ]
  },
  {
   "cell_type": "code",
   "execution_count": null,
   "id": "b6ad5e05",
   "metadata": {},
   "outputs": [],
   "source": [
    "'2' + 1"
   ]
  },
  {
   "cell_type": "code",
   "execution_count": 9,
   "id": "5e1642f9",
   "metadata": {},
   "outputs": [
    {
     "data": {
      "text/plain": [
       "'Hello, World!'"
      ]
     },
     "execution_count": 9,
     "metadata": {},
     "output_type": "execute_result"
    }
   ],
   "source": [
    "name = 'World'\n",
    "'Hello, %s!' % name\n"
   ]
  },
  {
   "cell_type": "code",
   "execution_count": 10,
   "id": "088d103b",
   "metadata": {},
   "outputs": [
    {
     "data": {
      "text/plain": [
       "'Hello World!'"
      ]
     },
     "execution_count": 10,
     "metadata": {},
     "output_type": "execute_result"
    }
   ],
   "source": [
    "f'Hello {name}!'\n"
   ]
  },
  {
   "cell_type": "code",
   "execution_count": 11,
   "id": "ec1be602",
   "metadata": {},
   "outputs": [
    {
     "data": {
      "text/plain": [
       "'Hello, World!'"
      ]
     },
     "execution_count": 11,
     "metadata": {},
     "output_type": "execute_result"
    }
   ],
   "source": [
    "'Hello, {}!'.format(name)\n"
   ]
  },
  {
   "cell_type": "code",
   "execution_count": 38,
   "id": "fac40262",
   "metadata": {},
   "outputs": [],
   "source": [
    "numbers = [1, 2, 3]\n"
   ]
  },
  {
   "cell_type": "code",
   "execution_count": 32,
   "id": "5fbe2c2c",
   "metadata": {},
   "outputs": [
    {
     "data": {
      "text/plain": [
       "[1, 2, 3, 4, 4]"
      ]
     },
     "execution_count": 32,
     "metadata": {},
     "output_type": "execute_result"
    }
   ],
   "source": [
    "numbers.append(4)\n",
    "numbers\n"
   ]
  },
  {
   "cell_type": "code",
   "execution_count": 37,
   "id": "92a8aa0f",
   "metadata": {},
   "outputs": [
    {
     "data": {
      "text/plain": [
       "[1, 2, 4]"
      ]
     },
     "execution_count": 37,
     "metadata": {},
     "output_type": "execute_result"
    }
   ],
   "source": [
    "numbers.pop(2)\n",
    "numbers\n"
   ]
  },
  {
   "cell_type": "code",
   "execution_count": 15,
   "id": "67dc33d9",
   "metadata": {},
   "outputs": [
    {
     "data": {
      "text/plain": [
       "3"
      ]
     },
     "execution_count": 15,
     "metadata": {},
     "output_type": "execute_result"
    }
   ],
   "source": [
    "len(numbers)\n"
   ]
  },
  {
   "cell_type": "code",
   "execution_count": 36,
   "id": "fdc3fa16",
   "metadata": {},
   "outputs": [
    {
     "data": {
      "text/plain": [
       "[1, 2, 3, 4]"
      ]
     },
     "execution_count": 36,
     "metadata": {},
     "output_type": "execute_result"
    }
   ],
   "source": [
    "numbers"
   ]
  },
  {
   "cell_type": "code",
   "execution_count": 35,
   "id": "c8ebcac1",
   "metadata": {},
   "outputs": [
    {
     "data": {
      "text/plain": [
       "1"
      ]
     },
     "execution_count": 35,
     "metadata": {},
     "output_type": "execute_result"
    }
   ],
   "source": [
    "numbers[0]"
   ]
  },
  {
   "cell_type": "code",
   "execution_count": 40,
   "id": "0c911376",
   "metadata": {},
   "outputs": [
    {
     "data": {
      "text/plain": [
       "3"
      ]
     },
     "execution_count": 40,
     "metadata": {},
     "output_type": "execute_result"
    }
   ],
   "source": [
    "numbers[2]\n",
    "numbers[-1]"
   ]
  },
  {
   "cell_type": "code",
   "execution_count": 42,
   "id": "be01734b",
   "metadata": {},
   "outputs": [
    {
     "data": {
      "text/plain": [
       "[1, 2]"
      ]
     },
     "execution_count": 42,
     "metadata": {},
     "output_type": "execute_result"
    }
   ],
   "source": [
    "#up to but not including specified number\n",
    "numbers[:2]"
   ]
  },
  {
   "cell_type": "code",
   "execution_count": 45,
   "id": "0723016d",
   "metadata": {},
   "outputs": [
    {
     "data": {
      "text/plain": [
       "[2]"
      ]
     },
     "execution_count": 45,
     "metadata": {},
     "output_type": "execute_result"
    }
   ],
   "source": [
    "numbers[1:2]"
   ]
  },
  {
   "cell_type": "code",
   "execution_count": 46,
   "id": "8c8fca3b",
   "metadata": {},
   "outputs": [
    {
     "data": {
      "text/plain": [
       "[2, 3]"
      ]
     },
     "execution_count": 46,
     "metadata": {},
     "output_type": "execute_result"
    }
   ],
   "source": [
    "numbers[1:]"
   ]
  },
  {
   "cell_type": "code",
   "execution_count": 51,
   "id": "9a07bda8",
   "metadata": {},
   "outputs": [
    {
     "data": {
      "text/plain": [
       "[0, 1, 2, 3, 4, 5, 6, 7, 8, 9]"
      ]
     },
     "execution_count": 51,
     "metadata": {},
     "output_type": "execute_result"
    }
   ],
   "source": [
    "list(range(10))"
   ]
  },
  {
   "cell_type": "code",
   "execution_count": 49,
   "id": "9886ffd2",
   "metadata": {},
   "outputs": [
    {
     "data": {
      "text/plain": [
       "['a', 'b', 'c', 'd', 'e']"
      ]
     },
     "execution_count": 49,
     "metadata": {},
     "output_type": "execute_result"
    }
   ],
   "source": [
    "list('abcde')"
   ]
  },
  {
   "cell_type": "code",
   "execution_count": 50,
   "id": "3485dd77",
   "metadata": {},
   "outputs": [
    {
     "data": {
      "text/plain": [
       "['1', '2', '3']"
      ]
     },
     "execution_count": 50,
     "metadata": {},
     "output_type": "execute_result"
    }
   ],
   "source": [
    "list(map(str, [1, 2, 3]))"
   ]
  },
  {
   "cell_type": "code",
   "execution_count": 52,
   "id": "dcf8327b",
   "metadata": {},
   "outputs": [],
   "source": [
    "my_numbers = list(range(10))"
   ]
  },
  {
   "cell_type": "code",
   "execution_count": 53,
   "id": "72bbdc49",
   "metadata": {},
   "outputs": [
    {
     "data": {
      "text/plain": [
       "[0, 1, 2, 3, 4, 5, 6, 7, 8, 9]"
      ]
     },
     "execution_count": 53,
     "metadata": {},
     "output_type": "execute_result"
    }
   ],
   "source": [
    "my_numbers"
   ]
  },
  {
   "cell_type": "code",
   "execution_count": 54,
   "id": "81cda293",
   "metadata": {},
   "outputs": [
    {
     "data": {
      "text/plain": [
       "(1, 'two', ['t', 'h', 'r', 'e', 'e'])"
      ]
     },
     "execution_count": 54,
     "metadata": {},
     "output_type": "execute_result"
    }
   ],
   "source": [
    "# tuples are immutable; cannot be changed after\n",
    "(1, 'two', ['t', 'h', 'r', 'e', 'e'])\n",
    "\n"
   ]
  },
  {
   "cell_type": "code",
   "execution_count": 55,
   "id": "5f8ccd06",
   "metadata": {},
   "outputs": [],
   "source": [
    "my_tuple = (1, 2, 3)"
   ]
  },
  {
   "cell_type": "code",
   "execution_count": 56,
   "id": "78eb4184",
   "metadata": {},
   "outputs": [
    {
     "data": {
      "text/plain": [
       "2"
      ]
     },
     "execution_count": 56,
     "metadata": {},
     "output_type": "execute_result"
    }
   ],
   "source": [
    "my_tuple[1]"
   ]
  },
  {
   "cell_type": "code",
   "execution_count": 58,
   "id": "91b252be",
   "metadata": {},
   "outputs": [
    {
     "data": {
      "text/plain": [
       "{'name': 'codeup', 'age': 4}"
      ]
     },
     "execution_count": 58,
     "metadata": {},
     "output_type": "execute_result"
    }
   ],
   "source": [
    "# Dictionary\n",
    "# key: value (key-value pairs)\n",
    "\n",
    "{'name':'codeup', 'age': 4}"
   ]
  },
  {
   "cell_type": "code",
   "execution_count": 64,
   "id": "b4833128",
   "metadata": {},
   "outputs": [
    {
     "data": {
      "text/plain": [
       "{'name': 'Codeup', 'age': 4}"
      ]
     },
     "execution_count": 64,
     "metadata": {},
     "output_type": "execute_result"
    }
   ],
   "source": [
    "# use the dict function\n",
    "dict (name = 'Codeup', age = 4)"
   ]
  },
  {
   "cell_type": "code",
   "execution_count": 65,
   "id": "df811bee",
   "metadata": {},
   "outputs": [
    {
     "data": {
      "text/plain": [
       "'Codeup'"
      ]
     },
     "execution_count": 65,
     "metadata": {},
     "output_type": "execute_result"
    }
   ],
   "source": [
    "school = dict(name='Codeup', age=4)\n",
    "\n",
    "school['name']\n"
   ]
  },
  {
   "cell_type": "code",
   "execution_count": null,
   "id": "94eec6ba",
   "metadata": {},
   "outputs": [],
   "source": [
    "\n"
   ]
  },
  {
   "cell_type": "code",
   "execution_count": null,
   "id": "5bed02c6",
   "metadata": {},
   "outputs": [],
   "source": [
    "99.9 = float\n",
    "\n",
    "\"False\" = string \n",
    "\n",
    "False = bolean\n",
    "\n",
    "'0' = string\n",
    "\n",
    "0 = int\n",
    "\n",
    "True = bolean\n",
    "\n",
    "'True' = string\n",
    "\n",
    "[{}] = \n",
    "\n",
    "{'a': []} = dictionary"
   ]
  },
  {
   "cell_type": "markdown",
   "id": "9b14d56a",
   "metadata": {},
   "source": []
  },
  {
   "cell_type": "markdown",
   "id": "ec281951",
   "metadata": {},
   "source": [
    "'1' + 2\n",
    "\n",
    "6 % 4\n",
    "\n",
    "type(6 % 4)\n",
    "\n",
    "type(type(6 % 4))\n",
    "\n",
    "'3 + 4 is ' + 3 + 4\n",
    "\n",
    "0 < 0\n",
    "\n",
    "'False' == False\n",
    "\n",
    "True == 'True'\n",
    "\n",
    "5 >= -5\n",
    "\n",
    "True or \"42\"\n",
    "\n",
    "6 % 5\n",
    "\n",
    "5 < 4 and 1 == 1\n",
    "\n",
    "'codeup' == 'codeup' and 'codeup' == 'Codeup'\n",
    "\n",
    "4 >= 0 and 1 !== '1'\n",
    "\n",
    "6 % 3 == 0\n",
    "\n",
    "5 % 2 != 0\n",
    "\n",
    "[1] + 2\n",
    "\n",
    "[1] + [2]\n",
    "\n",
    "[1] * 2\n",
    "\n",
    "[1] * [2]\n",
    "\n",
    "[] + [] == []\n",
    "\n",
    "{} + {"
   ]
  },
  {
   "cell_type": "code",
   "execution_count": 4,
   "id": "3b175ad8",
   "metadata": {},
   "outputs": [],
   "source": [
    "i_like_coffee = False\n",
    "\n",
    "if i_like_coffee:\n",
    "    print('I like coffee!')\n",
    "    print('Coffee is the best!')\n"
   ]
  },
  {
   "cell_type": "code",
   "execution_count": 10,
   "id": "2b5e5772",
   "metadata": {},
   "outputs": [
    {
     "name": "stdout",
     "output_type": "stream",
     "text": [
      "Middle of the road, huh?\n"
     ]
    }
   ],
   "source": [
    "coffee_preference = 'medium'\n",
    "\n",
    "if coffee_preference == 'dark':\n",
    "    print('I love a good dark roast!')\n",
    "elif coffee_preference == 'medium':\n",
    "    print('Middle of the road, huh?')\n",
    "elif coffee_preference == 'light':\n",
    "    print('Light roast has the most caffeine!')\n",
    "else:\n",
    "    print('How about some tea then?')\n"
   ]
  },
  {
   "cell_type": "markdown",
   "id": "e2aa8d54",
   "metadata": {},
   "source": [
    "# FUNCTIONS"
   ]
  },
  {
   "cell_type": "code",
   "execution_count": 18,
   "id": "7d287271",
   "metadata": {},
   "outputs": [],
   "source": [
    "num_list = [3,4,6,6,989]"
   ]
  },
  {
   "cell_type": "code",
   "execution_count": 19,
   "id": "06702f54",
   "metadata": {},
   "outputs": [
    {
     "data": {
      "text/plain": [
       "989"
      ]
     },
     "execution_count": 19,
     "metadata": {},
     "output_type": "execute_result"
    }
   ],
   "source": [
    "max(my_list)"
   ]
  },
  {
   "cell_type": "code",
   "execution_count": 20,
   "id": "5753885a",
   "metadata": {},
   "outputs": [
    {
     "ename": "TypeError",
     "evalue": "max expected at least 1 argument, got 0",
     "output_type": "error",
     "traceback": [
      "\u001b[0;31m---------------------------------------------------------------------------\u001b[0m",
      "\u001b[0;31mTypeError\u001b[0m                                 Traceback (most recent call last)",
      "Input \u001b[0;32mIn [20]\u001b[0m, in \u001b[0;36m<cell line: 1>\u001b[0;34m()\u001b[0m\n\u001b[0;32m----> 1\u001b[0m \u001b[38;5;28;43mmax\u001b[39;49m\u001b[43m(\u001b[49m\u001b[43m)\u001b[49m\n",
      "\u001b[0;31mTypeError\u001b[0m: max expected at least 1 argument, got 0"
     ]
    }
   ],
   "source": [
    "max()"
   ]
  },
  {
   "cell_type": "code",
   "execution_count": 28,
   "id": "96eda6fd",
   "metadata": {},
   "outputs": [],
   "source": [
    "def square_max(my_list):\n",
    "    \n",
    "    print(max(my_list) ** 2)\n",
    "    \n",
    "    return max(my_list) ** 2"
   ]
  },
  {
   "cell_type": "code",
   "execution_count": 29,
   "id": "31aedfca",
   "metadata": {},
   "outputs": [
    {
     "name": "stdout",
     "output_type": "stream",
     "text": [
      "978121\n"
     ]
    },
    {
     "data": {
      "text/plain": [
       "978121"
      ]
     },
     "execution_count": 29,
     "metadata": {},
     "output_type": "execute_result"
    }
   ],
   "source": [
    "square_max(num_list)"
   ]
  },
  {
   "cell_type": "code",
   "execution_count": 30,
   "id": "729471f0",
   "metadata": {},
   "outputs": [
    {
     "name": "stdout",
     "output_type": "stream",
     "text": [
      "978121\n"
     ]
    }
   ],
   "source": [
    "my_number = square_max(num_list)"
   ]
  },
  {
   "cell_type": "code",
   "execution_count": 31,
   "id": "f92e40fb",
   "metadata": {},
   "outputs": [
    {
     "data": {
      "text/plain": [
       "978121"
      ]
     },
     "execution_count": 31,
     "metadata": {},
     "output_type": "execute_result"
    }
   ],
   "source": [
    "my_number"
   ]
  },
  {
   "cell_type": "code",
   "execution_count": 47,
   "id": "e00bc3a7",
   "metadata": {},
   "outputs": [],
   "source": [
    "def cube_max(my_list):\n",
    "    \n",
    "    print(max(my_list) ** 3)\n",
    "    \n",
    "    return max(my_list) ** 3, 'cubed'"
   ]
  },
  {
   "cell_type": "code",
   "execution_count": 48,
   "id": "b60c5b47",
   "metadata": {},
   "outputs": [
    {
     "name": "stdout",
     "output_type": "stream",
     "text": [
      "967361669\n"
     ]
    },
    {
     "data": {
      "text/plain": [
       "(967361669, 'cubed')"
      ]
     },
     "execution_count": 48,
     "metadata": {},
     "output_type": "execute_result"
    }
   ],
   "source": [
    "cube_max(num_list)"
   ]
  },
  {
   "cell_type": "code",
   "execution_count": 49,
   "id": "a0ceba04",
   "metadata": {},
   "outputs": [
    {
     "name": "stdout",
     "output_type": "stream",
     "text": [
      "967361669\n"
     ]
    }
   ],
   "source": [
    "my_cubed_number = cube_max(num_list)"
   ]
  },
  {
   "cell_type": "code",
   "execution_count": 50,
   "id": "c356da46",
   "metadata": {},
   "outputs": [
    {
     "data": {
      "text/plain": [
       "(967361669, 'cubed')"
      ]
     },
     "execution_count": 50,
     "metadata": {},
     "output_type": "execute_result"
    }
   ],
   "source": [
    "my_cubed_number"
   ]
  },
  {
   "cell_type": "markdown",
   "id": "0f05dd3c",
   "metadata": {},
   "source": [
    "number, word = cube_max(num_list)"
   ]
  },
  {
   "cell_type": "raw",
   "id": "a474e436",
   "metadata": {},
   "source": [
    "number, word = cube_max(num_list)"
   ]
  },
  {
   "cell_type": "code",
   "execution_count": 51,
   "id": "1a72a0f5",
   "metadata": {},
   "outputs": [
    {
     "ename": "NameError",
     "evalue": "name 'number' is not defined",
     "output_type": "error",
     "traceback": [
      "\u001b[0;31m---------------------------------------------------------------------------\u001b[0m",
      "\u001b[0;31mNameError\u001b[0m                                 Traceback (most recent call last)",
      "Input \u001b[0;32mIn [51]\u001b[0m, in \u001b[0;36m<cell line: 1>\u001b[0;34m()\u001b[0m\n\u001b[0;32m----> 1\u001b[0m \u001b[43mnumber\u001b[49m\n",
      "\u001b[0;31mNameError\u001b[0m: name 'number' is not defined"
     ]
    }
   ],
   "source": [
    "number"
   ]
  },
  {
   "cell_type": "code",
   "execution_count": 52,
   "id": "67400341",
   "metadata": {},
   "outputs": [
    {
     "ename": "NameError",
     "evalue": "name 'word' is not defined",
     "output_type": "error",
     "traceback": [
      "\u001b[0;31m---------------------------------------------------------------------------\u001b[0m",
      "\u001b[0;31mNameError\u001b[0m                                 Traceback (most recent call last)",
      "Input \u001b[0;32mIn [52]\u001b[0m, in \u001b[0;36m<cell line: 1>\u001b[0;34m()\u001b[0m\n\u001b[0;32m----> 1\u001b[0m \u001b[43mword\u001b[49m\n",
      "\u001b[0;31mNameError\u001b[0m: name 'word' is not defined"
     ]
    }
   ],
   "source": [
    "word"
   ]
  },
  {
   "cell_type": "code",
   "execution_count": 54,
   "id": "e5af8bf5",
   "metadata": {},
   "outputs": [],
   "source": [
    "def list_comparer(list_a, list_b):\n",
    "    if max(list_a) > max(list_b):\n",
    "        print(f'{list_a} is the winner!!')\n",
    "    \n",
    "    else:\n",
    "        print(f'{list_b} rules the dirt')"
   ]
  },
  {
   "cell_type": "code",
   "execution_count": 55,
   "id": "92918b02",
   "metadata": {},
   "outputs": [],
   "source": [
    "big_list = (30, 40, 50)"
   ]
  },
  {
   "cell_type": "code",
   "execution_count": 56,
   "id": "52ec53e3",
   "metadata": {},
   "outputs": [
    {
     "name": "stdout",
     "output_type": "stream",
     "text": [
      "[3, 4, 6, 6, 989] is the winner!!\n"
     ]
    }
   ],
   "source": [
    "list_comparer(num_list, big_list)"
   ]
  },
  {
   "cell_type": "code",
   "execution_count": 58,
   "id": "62b57a15",
   "metadata": {},
   "outputs": [
    {
     "name": "stdout",
     "output_type": "stream",
     "text": [
      "[3, 4, 6, 6, 989] rules the dirt\n"
     ]
    }
   ],
   "source": [
    "list_comparer(list_a = big_list, list_b = num_list)"
   ]
  },
  {
   "cell_type": "markdown",
   "id": "66fde35a",
   "metadata": {},
   "source": [
    "# DEFAULT VALUES, SCOPE, LAMBDA"
   ]
  },
  {
   "cell_type": "code",
   "execution_count": 64,
   "id": "e924513a",
   "metadata": {},
   "outputs": [],
   "source": [
    "# convert between inches and centimeters \n",
    "def converter(meas, metric = True):\n",
    "    \n",
    "    if metric:\n",
    "        num_inches = meas / 2.54\n",
    "        return num_inches\n",
    "    \n",
    "    else: \n",
    "        num_cms = meas * 2.54\n",
    "        \n",
    "        return num_cms\n",
    "        "
   ]
  },
  {
   "cell_type": "code",
   "execution_count": 70,
   "id": "a4b2efa5",
   "metadata": {},
   "outputs": [
    {
     "data": {
      "text/plain": [
       "47.24409448818898"
      ]
     },
     "execution_count": 70,
     "metadata": {},
     "output_type": "execute_result"
    }
   ],
   "source": [
    "converter(120, metric = True)"
   ]
  },
  {
   "cell_type": "code",
   "execution_count": 66,
   "id": "713088c6",
   "metadata": {},
   "outputs": [
    {
     "data": {
      "text/plain": [
       "47.24409448818898"
      ]
     },
     "execution_count": 66,
     "metadata": {},
     "output_type": "execute_result"
    }
   ],
   "source": [
    "converter(120)"
   ]
  },
  {
   "cell_type": "code",
   "execution_count": 69,
   "id": "f1562f45",
   "metadata": {},
   "outputs": [
    {
     "data": {
      "text/plain": [
       "18.503937007874015"
      ]
     },
     "execution_count": 69,
     "metadata": {},
     "output_type": "execute_result"
    }
   ],
   "source": [
    "converter(47, metric = 1) # 1 is equal to True  "
   ]
  },
  {
   "cell_type": "code",
   "execution_count": 73,
   "id": "02175d5f",
   "metadata": {},
   "outputs": [
    {
     "data": {
      "text/plain": [
       "[3, 4, 6, 6, 989]"
      ]
     },
     "execution_count": 73,
     "metadata": {},
     "output_type": "execute_result"
    }
   ],
   "source": [
    "num_list"
   ]
  },
  {
   "cell_type": "code",
   "execution_count": 87,
   "id": "22474a5e",
   "metadata": {},
   "outputs": [],
   "source": [
    "def min_finder(my_list):\n",
    "    x = min(my_list)\n",
    "    return x"
   ]
  },
  {
   "cell_type": "code",
   "execution_count": 88,
   "id": "17d9291a",
   "metadata": {},
   "outputs": [],
   "source": [
    "dummy_list = [2, 2, 2, 4, 7]"
   ]
  },
  {
   "cell_type": "markdown",
   "id": "4794d822",
   "metadata": {},
   "source": [
    "min_finder(dummy_list)"
   ]
  },
  {
   "cell_type": "code",
   "execution_count": 89,
   "id": "d1693ac5",
   "metadata": {},
   "outputs": [
    {
     "data": {
      "text/plain": [
       "2"
      ]
     },
     "execution_count": 89,
     "metadata": {},
     "output_type": "execute_result"
    }
   ],
   "source": [
    "min_finder(dummy_list)"
   ]
  },
  {
   "cell_type": "code",
   "execution_count": 91,
   "id": "b5910d62",
   "metadata": {},
   "outputs": [],
   "source": [
    "x = min_finder(dummy_list)"
   ]
  },
  {
   "cell_type": "code",
   "execution_count": 92,
   "id": "a92b76e0",
   "metadata": {},
   "outputs": [
    {
     "data": {
      "text/plain": [
       "2"
      ]
     },
     "execution_count": 92,
     "metadata": {},
     "output_type": "execute_result"
    }
   ],
   "source": [
    "x"
   ]
  },
  {
   "cell_type": "code",
   "execution_count": 93,
   "id": "945f68b5",
   "metadata": {},
   "outputs": [
    {
     "data": {
      "text/plain": [
       "2"
      ]
     },
     "execution_count": 93,
     "metadata": {},
     "output_type": "execute_result"
    }
   ],
   "source": [
    "min_finder(dummy_list)"
   ]
  },
  {
   "cell_type": "code",
   "execution_count": null,
   "id": "e18b56bf",
   "metadata": {},
   "outputs": [],
   "source": []
  },
  {
   "cell_type": "code",
   "execution_count": 99,
   "id": "bb454fa2",
   "metadata": {},
   "outputs": [],
   "source": []
  },
  {
   "cell_type": "code",
   "execution_count": null,
   "id": "7fa824b3",
   "metadata": {},
   "outputs": [],
   "source": []
  },
  {
   "cell_type": "code",
   "execution_count": null,
   "id": "f0fe0f3a",
   "metadata": {},
   "outputs": [],
   "source": []
  }
 ],
 "metadata": {
  "kernelspec": {
   "display_name": "Python 3 (ipykernel)",
   "language": "python",
   "name": "python3"
  },
  "language_info": {
   "codemirror_mode": {
    "name": "ipython",
    "version": 3
   },
   "file_extension": ".py",
   "mimetype": "text/x-python",
   "name": "python",
   "nbconvert_exporter": "python",
   "pygments_lexer": "ipython3",
   "version": "3.9.13"
  }
 },
 "nbformat": 4,
 "nbformat_minor": 5
}
