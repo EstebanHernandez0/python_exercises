{
 "cells": [
  {
   "cell_type": "code",
   "execution_count": 6,
   "id": "290ae771",
   "metadata": {},
   "outputs": [
    {
     "name": "stdout",
     "output_type": "stream",
     "text": [
      "27\n"
     ]
    }
   ],
   "source": [
    "#You have rented some movies for your kids: The little mermaid (for 3 days), Brother Bear (for 5 days, they love it), and Hercules (1 day, you don't know yet if they're going to like it). If price for a movie per day is 3 dollars, how much will you have to pay?\n",
    "\n",
    "The_Little_Mermaid = 3 * 3\n",
    "Brother_Bear = 5 * 3\n",
    "Hercules = 1 * 3\n",
    "\n",
    "print(The_Little_Mermaid + Brother_Bear + Hercules)\n"
   ]
  },
  {
   "cell_type": "code",
   "execution_count": 7,
   "id": "8742b4ef",
   "metadata": {},
   "outputs": [
    {
     "name": "stdout",
     "output_type": "stream",
     "text": [
      "7420\n"
     ]
    }
   ],
   "source": [
    "# Suppose you're working as a contractor for 3 companies: Google, Amazon and Facebook, they pay you a different rate per hour. Google pays 400 dollars per hour, Amazon 380, and Facebook 350. How much will you receive in payment for this week? You worked 10 hours for Facebook, 6 hours for Google and 4 hours for Amazon\n",
    "G = Google = 400 * 6\n",
    "A = Amazon = 380 * 4\n",
    "F = Facebook = 350 * 10\n",
    "print(G + A + F)\n"
   ]
  },
  {
   "cell_type": "code",
   "execution_count": 13,
   "id": "dd8b24ee",
   "metadata": {},
   "outputs": [
    {
     "ename": "SyntaxError",
     "evalue": "invalid syntax (470241367.py, line 2)",
     "output_type": "error",
     "traceback": [
      "\u001b[0;36m  Input \u001b[0;32mIn [13]\u001b[0;36m\u001b[0m\n\u001b[0;31m    Print('student_enrolled') if class_ != 'full' and class_schedule != schedule;\u001b[0m\n\u001b[0m                                                                                ^\u001b[0m\n\u001b[0;31mSyntaxError\u001b[0m\u001b[0;31m:\u001b[0m invalid syntax\n"
     ]
    }
   ],
   "source": [
    "# A student can be enrolled to a class only if the class is not full and the class schedule does not conflict with her current schedule.\n",
    "class_is_not_full = True\n",
    "schedule_not_conflict = True\n",
    "is_enrolled = class_is_not_full and schedule_not_conflict\n",
    "\n"
   ]
  },
  {
   "cell_type": "code",
   "execution_count": 16,
   "id": "6dfc6bc7",
   "metadata": {},
   "outputs": [],
   "source": [
    "# A product offer can be applied only if people buys more than 2 items, and the offer has not expired. Premium members do not need to buy a specific amount of products.\n",
    "more_than_two = True\n",
    "expired = True\n",
    "premium = False\n",
    "discount = expired and (more_than_two or premium)"
   ]
  },
  {
   "cell_type": "code",
   "execution_count": 17,
   "id": "85311178",
   "metadata": {},
   "outputs": [
    {
     "data": {
      "text/plain": [
       "True"
      ]
     },
     "execution_count": 17,
     "metadata": {},
     "output_type": "execute_result"
    }
   ],
   "source": [
    "discount\n"
   ]
  },
  {
   "cell_type": "code",
   "execution_count": 47,
   "id": "a6e131b4",
   "metadata": {},
   "outputs": [],
   "source": [
    "my_username = ' Codeup'\n",
    "password = 'CodeupIsMid'"
   ]
  },
  {
   "cell_type": "code",
   "execution_count": 48,
   "id": "23e4c1e8",
   "metadata": {},
   "outputs": [],
   "source": [
    "check_1 = len(my_username) <= 20\n",
    "check_2 = len(password) >= 5"
   ]
  },
  {
   "cell_type": "code",
   "execution_count": 49,
   "id": "6807c838",
   "metadata": {},
   "outputs": [],
   "source": [
    "check_3 = my_username != password"
   ]
  },
  {
   "cell_type": "code",
   "execution_count": 50,
   "id": "16cef121",
   "metadata": {},
   "outputs": [
    {
     "data": {
      "text/plain": [
       "True"
      ]
     },
     "execution_count": 50,
     "metadata": {},
     "output_type": "execute_result"
    }
   ],
   "source": [
    "check_3"
   ]
  },
  {
   "cell_type": "code",
   "execution_count": 51,
   "id": "3c180ca5",
   "metadata": {},
   "outputs": [],
   "source": [
    "no_whitespace_username = not(my_username.startswith(' ') or my_username [-1] == ' ')\n",
    "no_whitespace_password = not(password.startswith(' ') or password [-1] == ' ')"
   ]
  },
  {
   "cell_type": "code",
   "execution_count": 52,
   "id": "b973aa12",
   "metadata": {},
   "outputs": [],
   "source": [
    "user_and_pass_valid = no_whitespace_username and no_whitespace_password"
   ]
  },
  {
   "cell_type": "code",
   "execution_count": 53,
   "id": "aeb50801",
   "metadata": {},
   "outputs": [
    {
     "data": {
      "text/plain": [
       "False"
      ]
     },
     "execution_count": 53,
     "metadata": {},
     "output_type": "execute_result"
    }
   ],
   "source": [
    "user_and_pass_valid"
   ]
  },
  {
   "cell_type": "code",
   "execution_count": null,
   "id": "fde6b2ce",
   "metadata": {},
   "outputs": [],
   "source": []
  },
  {
   "cell_type": "code",
   "execution_count": null,
   "id": "2e1790d4",
   "metadata": {},
   "outputs": [],
   "source": []
  },
  {
   "cell_type": "code",
   "execution_count": null,
   "id": "24983afe",
   "metadata": {},
   "outputs": [],
   "source": []
  },
  {
   "cell_type": "code",
   "execution_count": null,
   "id": "d33ea29a",
   "metadata": {},
   "outputs": [],
   "source": []
  },
  {
   "cell_type": "code",
   "execution_count": null,
   "id": "4e746972",
   "metadata": {},
   "outputs": [],
   "source": []
  },
  {
   "cell_type": "code",
   "execution_count": null,
   "id": "082610d2",
   "metadata": {},
   "outputs": [],
   "source": []
  },
  {
   "cell_type": "code",
   "execution_count": null,
   "id": "1bec11ae",
   "metadata": {},
   "outputs": [],
   "source": []
  }
 ],
 "metadata": {
  "kernelspec": {
   "display_name": "Python 3 (ipykernel)",
   "language": "python",
   "name": "python3"
  },
  "language_info": {
   "codemirror_mode": {
    "name": "ipython",
    "version": 3
   },
   "file_extension": ".py",
   "mimetype": "text/x-python",
   "name": "python",
   "nbconvert_exporter": "python",
   "pygments_lexer": "ipython3",
   "version": "3.9.13"
  }
 },
 "nbformat": 4,
 "nbformat_minor": 5
}
