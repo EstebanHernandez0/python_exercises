{
 "cells": [
  {
   "cell_type": "code",
   "execution_count": 10,
   "id": "59ae350f",
   "metadata": {},
   "outputs": [],
   "source": [
    "# Define a function named is_two. It should accept one input and return True if the passed input is either the number or the string 2, False otherwise."
   ]
  },
  {
   "cell_type": "code",
   "execution_count": 143,
   "id": "acee90ae",
   "metadata": {},
   "outputs": [],
   "source": [
    "def is_two(x):\n",
    "    if x == 2 or 'two':\n",
    "        print(\"It's True\")\n",
    "        return True\n",
    "    else:\n",
    "        return False"
   ]
  },
  {
   "cell_type": "code",
   "execution_count": 144,
   "id": "60952bd9",
   "metadata": {},
   "outputs": [],
   "source": [
    "four = 4"
   ]
  },
  {
   "cell_type": "code",
   "execution_count": 145,
   "id": "14f68c08",
   "metadata": {},
   "outputs": [
    {
     "name": "stdout",
     "output_type": "stream",
     "text": [
      "It's True\n"
     ]
    },
    {
     "data": {
      "text/plain": [
       "True"
      ]
     },
     "execution_count": 145,
     "metadata": {},
     "output_type": "execute_result"
    }
   ],
   "source": [
    "is_two(four)"
   ]
  },
  {
   "cell_type": "code",
   "execution_count": null,
   "id": "885c2b6a",
   "metadata": {},
   "outputs": [],
   "source": [
    "# Define a function named is_vowel. It should return True if the passed string is a vowel, False otherwise"
   ]
  },
  {
   "cell_type": "code",
   "execution_count": 129,
   "id": "16a05b21",
   "metadata": {},
   "outputs": [],
   "source": [
    "def is_vowel(x):\n",
    "    if x in 'AaEeIiOoUu':\n",
    "        return True\n",
    "    \n",
    "    else:\n",
    "        return False"
   ]
  },
  {
   "cell_type": "code",
   "execution_count": 191,
   "id": "17c60bfc",
   "metadata": {},
   "outputs": [],
   "source": [
    "j = 'j'"
   ]
  },
  {
   "cell_type": "code",
   "execution_count": 192,
   "id": "fad20161",
   "metadata": {},
   "outputs": [
    {
     "data": {
      "text/plain": [
       "False"
      ]
     },
     "execution_count": 192,
     "metadata": {},
     "output_type": "execute_result"
    }
   ],
   "source": [
    "is_vowel(j)"
   ]
  },
  {
   "cell_type": "code",
   "execution_count": null,
   "id": "41923d64",
   "metadata": {},
   "outputs": [],
   "source": [
    "# Define a function named is_consonant. It should return True if the passed string is a consonant, False otherwise. Use your is_vowel function to accomplish this."
   ]
  },
  {
   "cell_type": "code",
   "execution_count": 219,
   "id": "8f1a1672",
   "metadata": {},
   "outputs": [],
   "source": [
    "def is_consonant(b):\n",
    "    if b not in 'AaEeIiOoUu':\n",
    "        return True\n",
    "    else:\n",
    "        return False"
   ]
  },
  {
   "cell_type": "code",
   "execution_count": 220,
   "id": "7d8a00d3",
   "metadata": {},
   "outputs": [],
   "source": [
    "h = 'u'"
   ]
  },
  {
   "cell_type": "code",
   "execution_count": 221,
   "id": "2e8e34ae",
   "metadata": {},
   "outputs": [
    {
     "data": {
      "text/plain": [
       "False"
      ]
     },
     "execution_count": 221,
     "metadata": {},
     "output_type": "execute_result"
    }
   ],
   "source": [
    "is_consonant(h)"
   ]
  },
  {
   "cell_type": "code",
   "execution_count": null,
   "id": "df4f79a2",
   "metadata": {},
   "outputs": [],
   "source": [
    "# Define a function that accepts a string that is a word. The function should capitalize the first letter of the word if the word starts with a consonant."
   ]
  },
  {
   "cell_type": "code",
   "execution_count": 205,
   "id": "405615b3",
   "metadata": {},
   "outputs": [],
   "source": [
    "def upper_consonant(w):\n",
    "    if w[0] not in 'AaEeIiOoUu':\n",
    "        return w[0].capitalize()\n",
    "        \n",
    "    \n",
    "    else:\n",
    "        return False\n",
    "    "
   ]
  },
  {
   "cell_type": "code",
   "execution_count": 208,
   "id": "02788a64",
   "metadata": {},
   "outputs": [],
   "source": [
    "a = 'u'"
   ]
  },
  {
   "cell_type": "code",
   "execution_count": 209,
   "id": "089fc68f",
   "metadata": {},
   "outputs": [
    {
     "data": {
      "text/plain": [
       "False"
      ]
     },
     "execution_count": 209,
     "metadata": {},
     "output_type": "execute_result"
    }
   ],
   "source": [
    "upper_consonant(a)"
   ]
  },
  {
   "cell_type": "code",
   "execution_count": null,
   "id": "3597d72d",
   "metadata": {},
   "outputs": [],
   "source": [
    "# Define a function named calculate_tip. It should accept a tip percentage (a number between 0 and 1) and the bill total, and return the amount to tip."
   ]
  },
  {
   "cell_type": "code",
   "execution_count": null,
   "id": "ec26384f",
   "metadata": {},
   "outputs": [],
   "source": []
  },
  {
   "cell_type": "code",
   "execution_count": null,
   "id": "78bf09d3",
   "metadata": {},
   "outputs": [],
   "source": [
    "# Define a function named apply_discount. It should accept a original price, and a discount percentage, and return the price after the discount is applied."
   ]
  },
  {
   "cell_type": "code",
   "execution_count": 288,
   "id": "f8423eee",
   "metadata": {},
   "outputs": [],
   "source": [
    "\n",
    "\n",
    "def apply_discount(x):\n",
    "    \n",
    "    if x < 100:\n",
    "        return  x - (x * .05)\n",
    "    \n",
    "    elif x >= 100:\n",
    "        return x - (x * .10)\n",
    "    \n",
    "    elif x >= 150:\n",
    "        return x - (x * .15)\n",
    "    \n",
    "    elif x >= 200:\n",
    "        return x - (x * .20)\n",
    "    \n",
    "    elif x > 200:\n",
    "        return x - (x * .25)\n",
    "    "
   ]
  },
  {
   "cell_type": "code",
   "execution_count": 289,
   "id": "7e06d6a1",
   "metadata": {},
   "outputs": [
    {
     "name": "stdout",
     "output_type": "stream",
     "text": [
      "Enter original price here: 70\n"
     ]
    }
   ],
   "source": [
    "b = float(input(\"Enter original price here: \"))"
   ]
  },
  {
   "cell_type": "code",
   "execution_count": 290,
   "id": "8edf5154",
   "metadata": {},
   "outputs": [
    {
     "data": {
      "text/plain": [
       "66.5"
      ]
     },
     "execution_count": 290,
     "metadata": {},
     "output_type": "execute_result"
    }
   ],
   "source": [
    "apply_discount(b)"
   ]
  },
  {
   "cell_type": "code",
   "execution_count": null,
   "id": "8d260fe6",
   "metadata": {},
   "outputs": [],
   "source": []
  },
  {
   "cell_type": "code",
   "execution_count": null,
   "id": "e930d5a3",
   "metadata": {},
   "outputs": [],
   "source": []
  },
  {
   "cell_type": "code",
   "execution_count": null,
   "id": "ec7011a0",
   "metadata": {},
   "outputs": [],
   "source": []
  }
 ],
 "metadata": {
  "kernelspec": {
   "display_name": "Python 3 (ipykernel)",
   "language": "python",
   "name": "python3"
  },
  "language_info": {
   "codemirror_mode": {
    "name": "ipython",
    "version": 3
   },
   "file_extension": ".py",
   "mimetype": "text/x-python",
   "name": "python",
   "nbconvert_exporter": "python",
   "pygments_lexer": "ipython3",
   "version": "3.9.13"
  }
 },
 "nbformat": 4,
 "nbformat_minor": 5
}
