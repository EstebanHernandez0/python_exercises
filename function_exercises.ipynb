{
 "cells": [
  {
   "cell_type": "code",
   "execution_count": 10,
   "id": "f5f5ff17",
   "metadata": {},
   "outputs": [],
   "source": [
    "# Define a function named is_two. It should accept one input and return True if the passed input is either the number or the string 2, False otherwise."
   ]
  },
  {
   "cell_type": "code",
   "execution_count": 122,
   "id": "cc3d044d",
   "metadata": {},
   "outputs": [],
   "source": [
    "def is_two(x):\n",
    "    if x == 2:\n",
    "        print(\"It's True\")\n",
    "        return True\n",
    "    elif x == 'two':\n",
    "        print(\"It's True\")\n",
    "        return True\n",
    "    else:\n",
    "        return False"
   ]
  },
  {
   "cell_type": "code",
   "execution_count": null,
   "id": "f92f04ef",
   "metadata": {},
   "outputs": [],
   "source": [
    "# not my answer\n",
    "\n",
    "is_two(numbers):\n",
    "    if number == 2:\n",
    "        return True\n",
    "    if number == '2':\n",
    "        return True\n",
    "    else:\n",
    "        return False\n",
    "\n",
    "    def is_two_alt(n):\n",
    "        return n == 2 or n == '2'\n",
    "\n"
   ]
  },
  {
   "cell_type": "code",
   "execution_count": 120,
   "id": "43939abb",
   "metadata": {},
   "outputs": [],
   "source": [
    "four = 4"
   ]
  },
  {
   "cell_type": "code",
   "execution_count": 123,
   "id": "d5629cb6",
   "metadata": {},
   "outputs": [
    {
     "data": {
      "text/plain": [
       "False"
      ]
     },
     "execution_count": 123,
     "metadata": {},
     "output_type": "execute_result"
    }
   ],
   "source": [
    "is_two(four)"
   ]
  },
  {
   "cell_type": "code",
   "execution_count": null,
   "id": "22028d2f",
   "metadata": {},
   "outputs": [],
   "source": [
    "# Define a function named is_vowel. It should return True if the passed string is a vowel, False otherwise"
   ]
  },
  {
   "cell_type": "code",
   "execution_count": 126,
   "id": "9a8c7998",
   "metadata": {},
   "outputs": [],
   "source": [
    "def is_vowel(x):\n",
    "    if x in 'AaEeIiOoUu':\n",
    "        return True\n",
    "    \n",
    "    else:\n",
    "        return False"
   ]
  },
  {
   "cell_type": "code",
   "execution_count": null,
   "id": "bc09c8bd",
   "metadata": {},
   "outputs": [],
   "source": [
    "# not my answer\n",
    "\n",
    "def is_vowel(string):\n",
    "    vowel = 0 \n",
    "    for n in string:\n",
    "        if string in 'AEIOUaeiou':\n",
    "            vowel = vowel + 1\n",
    "    else:\n",
    "        vowel = vowels\n",
    "    if vowel !=0:\n",
    "        return True\n",
    "    else:\n",
    "        False\n",
    "        \n",
    "def is_vowel_alt(string):\n",
    "    return len(string) == and string.lower() in 'aeiou'"
   ]
  },
  {
   "cell_type": "code",
   "execution_count": 129,
   "id": "970733c4",
   "metadata": {},
   "outputs": [],
   "source": [
    "j = 'e'"
   ]
  },
  {
   "cell_type": "code",
   "execution_count": 130,
   "id": "4e813c66",
   "metadata": {},
   "outputs": [
    {
     "data": {
      "text/plain": [
       "True"
      ]
     },
     "execution_count": 130,
     "metadata": {},
     "output_type": "execute_result"
    }
   ],
   "source": [
    "is_vowel(j)"
   ]
  },
  {
   "cell_type": "code",
   "execution_count": null,
   "id": "074da2b2",
   "metadata": {},
   "outputs": [],
   "source": [
    "# Define a function named is_consonant. It should return True if the passed string is a consonant, False otherwise. Use your is_vowel function to accomplish this."
   ]
  },
  {
   "cell_type": "code",
   "execution_count": 219,
   "id": "80b66789",
   "metadata": {},
   "outputs": [],
   "source": [
    "def is_consonant(b):\n",
    "    if b not in 'AaEeIiOoUu':\n",
    "        return True\n",
    "    else:\n",
    "        return False"
   ]
  },
  {
   "cell_type": "code",
   "execution_count": 220,
   "id": "faaaa861",
   "metadata": {},
   "outputs": [],
   "source": [
    "# not my answer\n",
    "\n",
    "def is_consonant(string):\n",
    "    return len(string) == 1 and not is_vowel_alt(string) and string.isalpha()"
   ]
  },
  {
   "cell_type": "code",
   "execution_count": null,
   "id": "56abd3f8",
   "metadata": {},
   "outputs": [],
   "source": []
  },
  {
   "cell_type": "code",
   "execution_count": null,
   "id": "a92149f2",
   "metadata": {},
   "outputs": [],
   "source": [
    "# Define a function that accepts a string that is a word. The function should capitalize the first letter of the word if the word starts with a consonant."
   ]
  },
  {
   "cell_type": "code",
   "execution_count": 4,
   "id": "fcbf4215",
   "metadata": {},
   "outputs": [],
   "source": [
    "def upper_consonant(w):\n",
    "    if w[0] not in 'AaEeIiOoUu':\n",
    "        return w[0].capitalize()\n",
    "        \n",
    "    \n",
    "    else:\n",
    "        return False\n",
    "    "
   ]
  },
  {
   "cell_type": "code",
   "execution_count": 7,
   "id": "8cf8d7d1",
   "metadata": {},
   "outputs": [],
   "source": [
    "# not my answer\n",
    " def capit(string):\n",
    "        first_letter = string[0]\n",
    "        if is_consonant(first_letter):\n",
    "            string = string.capitalize()\n",
    "            return string "
   ]
  },
  {
   "cell_type": "code",
   "execution_count": null,
   "id": "c554e309",
   "metadata": {},
   "outputs": [],
   "source": [
    "# Define a function named calculate_tip. It should accept a tip percentage (a number between 0 and 1) and the bill total, and return the amount to tip."
   ]
  },
  {
   "cell_type": "code",
   "execution_count": 12,
   "id": "3c1b6a01",
   "metadata": {},
   "outputs": [],
   "source": [
    "def cal_tip(x):\n",
    "    \n",
    "    if x < 99:\n",
    "        return  x + (x * .05)\n",
    "    \n",
    "    elif x >= 100:\n",
    "        return x +(x * .10)\n",
    "    \n",
    "    elif x >= 150:\n",
    "        return x + (x * .15)\n",
    "    \n",
    "    elif x >= 200:\n",
    "        return x + (x * .20)\n",
    "    \n",
    "    elif x > 200:\n",
    "        return x + (x * .25)"
   ]
  },
  {
   "cell_type": "code",
   "execution_count": 13,
   "id": "31b23b53",
   "metadata": {},
   "outputs": [],
   "source": [
    "price = 100"
   ]
  },
  {
   "cell_type": "code",
   "execution_count": 14,
   "id": "2787345b",
   "metadata": {},
   "outputs": [
    {
     "data": {
      "text/plain": [
       "110.0"
      ]
     },
     "execution_count": 14,
     "metadata": {},
     "output_type": "execute_result"
    }
   ],
   "source": [
    "cal_tip(price)"
   ]
  },
  {
   "cell_type": "code",
   "execution_count": 132,
   "id": "c94e7c7c",
   "metadata": {},
   "outputs": [
    {
     "name": "stdout",
     "output_type": "stream",
     "text": [
      "Enter total bill: 1000.89\n",
      "Enter tip percent: 50\n",
      "you should leave 20.0178 as the tip\n"
     ]
    }
   ],
   "source": [
    "# not my answer\n",
    "\n",
    "total_bill = float(input(\"Enter total bill: \"))\n",
    "tip_percent = int(input(\"Enter tip percent: \" ))\n",
    "leave_tip = total_bill / tip_percent\n",
    "\n",
    "print(f\"you should leave {leave_tip} as the tip\")"
   ]
  },
  {
   "cell_type": "code",
   "execution_count": null,
   "id": "cbf6245c",
   "metadata": {},
   "outputs": [],
   "source": [
    "# Define a function named apply_discount. It should accept a original price, and a discount percentage, and return the price after the discount is applied."
   ]
  },
  {
   "cell_type": "code",
   "execution_count": 108,
   "id": "e881a2f4",
   "metadata": {},
   "outputs": [],
   "source": [
    "def discount_percentage(percent, whole):\n",
    "    discount_price = (percent * whole) / 100.0\n",
    "    return discount_price\n",
    "\n",
    "\n",
    "    "
   ]
  },
  {
   "cell_type": "code",
   "execution_count": 109,
   "id": "643a15da",
   "metadata": {},
   "outputs": [],
   "source": [
    "l = 50\n",
    "o = 200"
   ]
  },
  {
   "cell_type": "code",
   "execution_count": 110,
   "id": "9d338931",
   "metadata": {},
   "outputs": [
    {
     "data": {
      "text/plain": [
       "100.0"
      ]
     },
     "execution_count": 110,
     "metadata": {},
     "output_type": "execute_result"
    }
   ],
   "source": [
    "discount_percentage(l, o)"
   ]
  },
  {
   "cell_type": "code",
   "execution_count": 133,
   "id": "ba2823a1",
   "metadata": {},
   "outputs": [],
   "source": [
    "def hand_commas(string):\n",
    "    string = string.replace(\",\", \"\")\n",
    "    return string"
   ]
  },
  {
   "cell_type": "code",
   "execution_count": 34,
   "id": "d782c389",
   "metadata": {},
   "outputs": [],
   "source": [
    "# Define a function named get_letter_grade. It should accept a number and return the letter grade associated with that number (A-F)."
   ]
  },
  {
   "cell_type": "code",
   "execution_count": 36,
   "id": "467dc44e",
   "metadata": {},
   "outputs": [],
   "source": [
    "def get_letter_grade(x):\n",
    "    if x <= 100:\n",
    "        print(\"You got an A!\")\n",
    "    \n",
    "    elif x <= 89:\n",
    "        print(\"You got a B!\")\n",
    "        \n",
    "    elif x <= 79:\n",
    "        print(\"You got a C!\")\n",
    "        \n",
    "    elif x <= 69:\n",
    "        print(\"You got a D!\")\n",
    "        \n",
    "    elif x <= 59:\n",
    "        print(\"You got a E!\")\n",
    "    \n",
    "    else:\n",
    "        print(\"You got a F!!!!\")\n",
    "        "
   ]
  },
  {
   "cell_type": "code",
   "execution_count": null,
   "id": "3631aaba",
   "metadata": {},
   "outputs": [],
   "source": []
  },
  {
   "cell_type": "code",
   "execution_count": 37,
   "id": "f1a43336",
   "metadata": {},
   "outputs": [],
   "source": [
    "# Define a function named remove_vowels that accepts a string and returns a string with all the vowels removed."
   ]
  },
  {
   "cell_type": "code",
   "execution_count": 134,
   "id": "a9828018",
   "metadata": {},
   "outputs": [],
   "source": [
    "def remove_vowels(v):\n",
    "    vowel = ('aeiou')\n",
    "    for x in v.lower():\n",
    "        if x in vowel:\n",
    "            v = v.replace(x, \"\")\n",
    "            print(v)"
   ]
  },
  {
   "cell_type": "code",
   "execution_count": 135,
   "id": "7f90cc01",
   "metadata": {},
   "outputs": [],
   "source": [
    "t = \"I'm from Codeup\""
   ]
  },
  {
   "cell_type": "code",
   "execution_count": 136,
   "id": "68f5e115",
   "metadata": {},
   "outputs": [
    {
     "name": "stdout",
     "output_type": "stream",
     "text": [
      "I'm from Codeup\n",
      "I'm frm Cdeup\n",
      "I'm frm Cdeup\n",
      "I'm frm Cdup\n",
      "I'm frm Cdp\n"
     ]
    }
   ],
   "source": [
    "remove_vowels(t)"
   ]
  },
  {
   "cell_type": "code",
   "execution_count": null,
   "id": "debf06dd",
   "metadata": {},
   "outputs": [],
   "source": [
    "# Define a function named normalize_name. It should accept a string and return a valid python identifier, that is:"
   ]
  },
  {
   "cell_type": "code",
   "execution_count": 140,
   "id": "65ad6a86",
   "metadata": {},
   "outputs": [],
   "source": [
    "def normalize_name(b):\n",
    "    b = b.replace(\"$\", \"\")\n",
    "    b = b.replace(\"&\", \"\")\n",
    "    b = b.replace(\"!\", \"\")\n",
    "    b = b.replace(\"%\", \"\")\n",
    "    b = b.replace(\" \", \"_\")\n",
    "    b = b.lower()\n",
    "    return(b)"
   ]
  },
  {
   "cell_type": "code",
   "execution_count": 141,
   "id": "9b710931",
   "metadata": {},
   "outputs": [
    {
     "data": {
      "text/plain": [
       "'hello_there'"
      ]
     },
     "execution_count": 141,
     "metadata": {},
     "output_type": "execute_result"
    }
   ],
   "source": [
    "normalize_name('hell%o the&re')"
   ]
  },
  {
   "cell_type": "code",
   "execution_count": null,
   "id": "ea50afde",
   "metadata": {},
   "outputs": [],
   "source": [
    "# Write a function named cumulative_sum that accepts a list of numbers and returns a list that is the cumulative sum of the numbers in the list."
   ]
  },
  {
   "cell_type": "code",
   "execution_count": 142,
   "id": "251e36cf",
   "metadata": {},
   "outputs": [],
   "source": [
    "def cumulative_sum(num):\n",
    "    output = []\n",
    "    total = 0\n",
    "    for num in nums:\n",
    "        total += num\n",
    "        output.append(total)\n",
    "    return output\n",
    "    \n",
    "    "
   ]
  },
  {
   "cell_type": "code",
   "execution_count": 143,
   "id": "c315269d",
   "metadata": {},
   "outputs": [],
   "source": [
    "numbers_list = [20, 40, 60, 80]"
   ]
  },
  {
   "cell_type": "code",
   "execution_count": 145,
   "id": "a7df124c",
   "metadata": {},
   "outputs": [
    {
     "ename": "NameError",
     "evalue": "name 'nums' is not defined",
     "output_type": "error",
     "traceback": [
      "\u001b[0;31m---------------------------------------------------------------------------\u001b[0m",
      "\u001b[0;31mNameError\u001b[0m                                 Traceback (most recent call last)",
      "Input \u001b[0;32mIn [145]\u001b[0m, in \u001b[0;36m<cell line: 1>\u001b[0;34m()\u001b[0m\n\u001b[0;32m----> 1\u001b[0m \u001b[43mcumulative_sum\u001b[49m\u001b[43m(\u001b[49m\u001b[43mnumbers_list\u001b[49m\u001b[43m)\u001b[49m\n",
      "Input \u001b[0;32mIn [142]\u001b[0m, in \u001b[0;36mcumulative_sum\u001b[0;34m(num)\u001b[0m\n\u001b[1;32m      2\u001b[0m output \u001b[38;5;241m=\u001b[39m []\n\u001b[1;32m      3\u001b[0m total \u001b[38;5;241m=\u001b[39m \u001b[38;5;241m0\u001b[39m\n\u001b[0;32m----> 4\u001b[0m \u001b[38;5;28;01mfor\u001b[39;00m num \u001b[38;5;129;01min\u001b[39;00m \u001b[43mnums\u001b[49m:\n\u001b[1;32m      5\u001b[0m     total \u001b[38;5;241m+\u001b[39m\u001b[38;5;241m=\u001b[39m num\n\u001b[1;32m      6\u001b[0m     output\u001b[38;5;241m.\u001b[39mappend(total)\n",
      "\u001b[0;31mNameError\u001b[0m: name 'nums' is not defined"
     ]
    }
   ],
   "source": [
    "cumulative_sum(numbers_list)"
   ]
  },
  {
   "cell_type": "code",
   "execution_count": 118,
   "id": "19be76cd",
   "metadata": {},
   "outputs": [],
   "source": []
  },
  {
   "cell_type": "code",
   "execution_count": null,
   "id": "7e3866e1",
   "metadata": {},
   "outputs": [],
   "source": []
  },
  {
   "cell_type": "code",
   "execution_count": null,
   "id": "9a2f3abc",
   "metadata": {},
   "outputs": [],
   "source": []
  },
  {
   "cell_type": "code",
   "execution_count": null,
   "id": "435f4d75",
   "metadata": {},
   "outputs": [],
   "source": []
  }
 ],
 "metadata": {
  "kernelspec": {
   "display_name": "Python 3 (ipykernel)",
   "language": "python",
   "name": "python3"
  },
  "language_info": {
   "codemirror_mode": {
    "name": "ipython",
    "version": 3
   },
   "file_extension": ".py",
   "mimetype": "text/x-python",
   "name": "python",
   "nbconvert_exporter": "python",
   "pygments_lexer": "ipython3",
   "version": "3.9.13"
  }
 },
 "nbformat": 4,
 "nbformat_minor": 5
}
