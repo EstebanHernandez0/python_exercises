{
 "cells": [
  {
   "cell_type": "code",
   "execution_count": 10,
   "id": "4675a68c",
   "metadata": {},
   "outputs": [],
   "source": [
    "# Define a function named is_two. It should accept one input and return True if the passed input is either the number or the string 2, False otherwise."
   ]
  },
  {
   "cell_type": "code",
   "execution_count": 143,
   "id": "9ba46701",
   "metadata": {},
   "outputs": [],
   "source": [
    "def is_two(x):\n",
    "    if x == 2 or 'two':\n",
    "        print(\"It's True\")\n",
    "        return True\n",
    "    else:\n",
    "        return False"
   ]
  },
  {
   "cell_type": "code",
   "execution_count": 144,
   "id": "642ffff7",
   "metadata": {},
   "outputs": [],
   "source": [
    "four = 4"
   ]
  },
  {
   "cell_type": "code",
   "execution_count": 145,
   "id": "5d06d81f",
   "metadata": {},
   "outputs": [
    {
     "name": "stdout",
     "output_type": "stream",
     "text": [
      "It's True\n"
     ]
    },
    {
     "data": {
      "text/plain": [
       "True"
      ]
     },
     "execution_count": 145,
     "metadata": {},
     "output_type": "execute_result"
    }
   ],
   "source": [
    "is_two(four)"
   ]
  },
  {
   "cell_type": "code",
   "execution_count": null,
   "id": "c6aac4d1",
   "metadata": {},
   "outputs": [],
   "source": [
    "# Define a function named is_vowel. It should return True if the passed string is a vowel, False otherwise"
   ]
  },
  {
   "cell_type": "code",
   "execution_count": 129,
   "id": "cf7cab9e",
   "metadata": {},
   "outputs": [],
   "source": [
    "def is_vowel(x):\n",
    "    if x in 'AaEeIiOoUu':\n",
    "        return True\n",
    "    \n",
    "    else:\n",
    "        return False"
   ]
  },
  {
   "cell_type": "code",
   "execution_count": 156,
   "id": "afd9061d",
   "metadata": {},
   "outputs": [],
   "source": [
    "j = 'J'"
   ]
  },
  {
   "cell_type": "code",
   "execution_count": 157,
   "id": "7659f245",
   "metadata": {},
   "outputs": [
    {
     "data": {
      "text/plain": [
       "False"
      ]
     },
     "execution_count": 157,
     "metadata": {},
     "output_type": "execute_result"
    }
   ],
   "source": [
    "is_vowel(j)"
   ]
  },
  {
   "cell_type": "code",
   "execution_count": null,
   "id": "9dd50e98",
   "metadata": {},
   "outputs": [],
   "source": [
    "# Define a function named is_consonant. It should return True if the passed string is a consonant, False otherwise. Use your is_vowel function to accomplish this."
   ]
  },
  {
   "cell_type": "code",
   "execution_count": 153,
   "id": "a4fb6586",
   "metadata": {},
   "outputs": [],
   "source": [
    "def is_consonant(b):\n",
    "    if b != is_vowel:\n",
    "        return True\n",
    "    \n",
    "    else:\n",
    "        return False"
   ]
  },
  {
   "cell_type": "code",
   "execution_count": 154,
   "id": "4fb3f940",
   "metadata": {},
   "outputs": [],
   "source": [
    "h = 'H'"
   ]
  },
  {
   "cell_type": "code",
   "execution_count": 155,
   "id": "d96d1d7e",
   "metadata": {},
   "outputs": [
    {
     "data": {
      "text/plain": [
       "True"
      ]
     },
     "execution_count": 155,
     "metadata": {},
     "output_type": "execute_result"
    }
   ],
   "source": [
    "is_consonant(h)"
   ]
  },
  {
   "cell_type": "code",
   "execution_count": null,
   "id": "688caced",
   "metadata": {},
   "outputs": [],
   "source": []
  }
 ],
 "metadata": {
  "kernelspec": {
   "display_name": "Python 3 (ipykernel)",
   "language": "python",
   "name": "python3"
  },
  "language_info": {
   "codemirror_mode": {
    "name": "ipython",
    "version": 3
   },
   "file_extension": ".py",
   "mimetype": "text/x-python",
   "name": "python",
   "nbconvert_exporter": "python",
   "pygments_lexer": "ipython3",
   "version": "3.9.13"
  }
 },
 "nbformat": 4,
 "nbformat_minor": 5
}
