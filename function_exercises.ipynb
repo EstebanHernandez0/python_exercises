{
 "cells": [
  {
   "cell_type": "code",
   "execution_count": 10,
   "id": "f508ec9c",
   "metadata": {},
   "outputs": [],
   "source": [
    "# Define a function named is_two. It should accept one input and return True if the passed input is either the number or the string 2, False otherwise."
   ]
  },
  {
   "cell_type": "code",
   "execution_count": 68,
   "id": "276c951c",
   "metadata": {},
   "outputs": [],
   "source": [
    "def is_two(x, two = True):\n",
    "    if x == 2 or '2':\n",
    "        print(\"It's true!\")\n",
    "        return x\n",
    "    else:\n",
    "        i != 2 or '2'\n",
    "        return i\n",
    "    \n",
    "    \n",
    "\n"
   ]
  },
  {
   "cell_type": "code",
   "execution_count": 69,
   "id": "a3642fa0",
   "metadata": {},
   "outputs": [],
   "source": [
    "three = 4"
   ]
  },
  {
   "cell_type": "code",
   "execution_count": 70,
   "id": "979c2789",
   "metadata": {},
   "outputs": [
    {
     "name": "stdout",
     "output_type": "stream",
     "text": [
      "It's true!\n"
     ]
    },
    {
     "data": {
      "text/plain": [
       "4"
      ]
     },
     "execution_count": 70,
     "metadata": {},
     "output_type": "execute_result"
    }
   ],
   "source": [
    "is_two(three)"
   ]
  },
  {
   "cell_type": "code",
   "execution_count": null,
   "id": "345f6645",
   "metadata": {},
   "outputs": [],
   "source": []
  }
 ],
 "metadata": {
  "kernelspec": {
   "display_name": "Python 3 (ipykernel)",
   "language": "python",
   "name": "python3"
  },
  "language_info": {
   "codemirror_mode": {
    "name": "ipython",
    "version": 3
   },
   "file_extension": ".py",
   "mimetype": "text/x-python",
   "name": "python",
   "nbconvert_exporter": "python",
   "pygments_lexer": "ipython3",
   "version": "3.9.13"
  }
 },
 "nbformat": 4,
 "nbformat_minor": 5
}
