{
 "cells": [
  {
   "cell_type": "code",
   "execution_count": 10,
   "id": "aa154186",
   "metadata": {},
   "outputs": [],
   "source": [
    "# Define a function named is_two. It should accept one input and return True if the passed input is either the number or the string 2, False otherwise."
   ]
  },
  {
   "cell_type": "code",
   "execution_count": 143,
   "id": "179d526d",
   "metadata": {},
   "outputs": [],
   "source": [
    "def is_two(x):\n",
    "    if x == 2 or 'two':\n",
    "        print(\"It's True\")\n",
    "        return True\n",
    "    else:\n",
    "        return False"
   ]
  },
  {
   "cell_type": "code",
   "execution_count": 144,
   "id": "c132205f",
   "metadata": {},
   "outputs": [],
   "source": [
    "four = 4"
   ]
  },
  {
   "cell_type": "code",
   "execution_count": 145,
   "id": "98db44f3",
   "metadata": {},
   "outputs": [
    {
     "name": "stdout",
     "output_type": "stream",
     "text": [
      "It's True\n"
     ]
    },
    {
     "data": {
      "text/plain": [
       "True"
      ]
     },
     "execution_count": 145,
     "metadata": {},
     "output_type": "execute_result"
    }
   ],
   "source": [
    "is_two(four)"
   ]
  },
  {
   "cell_type": "code",
   "execution_count": null,
   "id": "6f39fe05",
   "metadata": {},
   "outputs": [],
   "source": [
    "# Define a function named is_vowel. It should return True if the passed string is a vowel, False otherwise"
   ]
  },
  {
   "cell_type": "code",
   "execution_count": 129,
   "id": "379fd320",
   "metadata": {},
   "outputs": [],
   "source": [
    "def is_vowel(x):\n",
    "    if x in 'AaEeIiOoUu':\n",
    "        return True\n",
    "    \n",
    "    else:\n",
    "        return False"
   ]
  },
  {
   "cell_type": "code",
   "execution_count": 191,
   "id": "f9251369",
   "metadata": {},
   "outputs": [],
   "source": [
    "j = 'j'"
   ]
  },
  {
   "cell_type": "code",
   "execution_count": 192,
   "id": "c6157ea8",
   "metadata": {},
   "outputs": [
    {
     "data": {
      "text/plain": [
       "False"
      ]
     },
     "execution_count": 192,
     "metadata": {},
     "output_type": "execute_result"
    }
   ],
   "source": [
    "is_vowel(j)"
   ]
  },
  {
   "cell_type": "code",
   "execution_count": null,
   "id": "ae76f1b6",
   "metadata": {},
   "outputs": [],
   "source": [
    "# Define a function named is_consonant. It should return True if the passed string is a consonant, False otherwise. Use your is_vowel function to accomplish this."
   ]
  },
  {
   "cell_type": "code",
   "execution_count": 219,
   "id": "e9536855",
   "metadata": {},
   "outputs": [],
   "source": [
    "def is_consonant(b):\n",
    "    if b not in 'AaEeIiOoUu':\n",
    "        return True\n",
    "    else:\n",
    "        return False"
   ]
  },
  {
   "cell_type": "code",
   "execution_count": 220,
   "id": "a82095f9",
   "metadata": {},
   "outputs": [],
   "source": [
    "h = 'u'"
   ]
  },
  {
   "cell_type": "code",
   "execution_count": 221,
   "id": "6970c95a",
   "metadata": {},
   "outputs": [
    {
     "data": {
      "text/plain": [
       "False"
      ]
     },
     "execution_count": 221,
     "metadata": {},
     "output_type": "execute_result"
    }
   ],
   "source": [
    "is_consonant(h)"
   ]
  },
  {
   "cell_type": "code",
   "execution_count": null,
   "id": "75a72e4e",
   "metadata": {},
   "outputs": [],
   "source": [
    "# Define a function that accepts a string that is a word. The function should capitalize the first letter of the word if the word starts with a consonant."
   ]
  },
  {
   "cell_type": "code",
   "execution_count": 205,
   "id": "d109170e",
   "metadata": {},
   "outputs": [],
   "source": [
    "def upper_consonant(w):\n",
    "    if w[0] not in 'AaEeIiOoUu':\n",
    "        return w[0].capitalize()\n",
    "        \n",
    "    \n",
    "    else:\n",
    "        return False\n",
    "    "
   ]
  },
  {
   "cell_type": "code",
   "execution_count": 208,
   "id": "a2730dfe",
   "metadata": {},
   "outputs": [],
   "source": [
    "a = 'u'"
   ]
  },
  {
   "cell_type": "code",
   "execution_count": 209,
   "id": "e398b127",
   "metadata": {},
   "outputs": [
    {
     "data": {
      "text/plain": [
       "False"
      ]
     },
     "execution_count": 209,
     "metadata": {},
     "output_type": "execute_result"
    }
   ],
   "source": [
    "upper_consonant(a)"
   ]
  },
  {
   "cell_type": "code",
   "execution_count": null,
   "id": "a5a1f06f",
   "metadata": {},
   "outputs": [],
   "source": [
    "# Define a function named calculate_tip. It should accept a tip percentage (a number between 0 and 1) and the bill total, and return the amount to tip."
   ]
  },
  {
   "cell_type": "code",
   "execution_count": null,
   "id": "a62c3b57",
   "metadata": {},
   "outputs": [],
   "source": []
  },
  {
   "cell_type": "code",
   "execution_count": null,
   "id": "d4b4d9c4",
   "metadata": {},
   "outputs": [],
   "source": [
    "# Define a function named apply_discount. It should accept a original price, and a discount percentage, and return the price after the discount is applied."
   ]
  },
  {
   "cell_type": "code",
   "execution_count": 229,
   "id": "beb05aaa",
   "metadata": {},
   "outputs": [
    {
     "name": "stdout",
     "output_type": "stream",
     "text": [
      "Original price here: 8\n",
      "Discount perentage here: .50\n"
     ]
    }
   ],
   "source": [
    "x = input(\"Original price here: \")\n",
    "y = input(\"Discount perentage here: \")\n",
    "\n",
    "def apply_discount(x, y):\n",
    "    if y > 0:\n",
    "        x - y\n",
    "        return x\n",
    "    "
   ]
  },
  {
   "cell_type": "code",
   "execution_count": 230,
   "id": "d09026e6",
   "metadata": {},
   "outputs": [],
   "source": [
    "b = 100\n",
    "c = .50"
   ]
  },
  {
   "cell_type": "code",
   "execution_count": 231,
   "id": "fc8de629",
   "metadata": {},
   "outputs": [
    {
     "ename": "TypeError",
     "evalue": "apply_discount() missing 1 required positional argument: 'y'",
     "output_type": "error",
     "traceback": [
      "\u001b[0;31m---------------------------------------------------------------------------\u001b[0m",
      "\u001b[0;31mTypeError\u001b[0m                                 Traceback (most recent call last)",
      "Input \u001b[0;32mIn [231]\u001b[0m, in \u001b[0;36m<cell line: 1>\u001b[0;34m()\u001b[0m\n\u001b[0;32m----> 1\u001b[0m \u001b[43mapply_discount\u001b[49m\u001b[43m(\u001b[49m\u001b[43mb\u001b[49m\u001b[43m)\u001b[49m\n",
      "\u001b[0;31mTypeError\u001b[0m: apply_discount() missing 1 required positional argument: 'y'"
     ]
    }
   ],
   "source": [
    "apply_discount(b, c)"
   ]
  },
  {
   "cell_type": "code",
   "execution_count": null,
   "id": "c719a178",
   "metadata": {},
   "outputs": [],
   "source": []
  },
  {
   "cell_type": "code",
   "execution_count": null,
   "id": "371e1426",
   "metadata": {},
   "outputs": [],
   "source": []
  },
  {
   "cell_type": "code",
   "execution_count": null,
   "id": "e97715f0",
   "metadata": {},
   "outputs": [],
   "source": []
  }
 ],
 "metadata": {
  "kernelspec": {
   "display_name": "Python 3 (ipykernel)",
   "language": "python",
   "name": "python3"
  },
  "language_info": {
   "codemirror_mode": {
    "name": "ipython",
    "version": 3
   },
   "file_extension": ".py",
   "mimetype": "text/x-python",
   "name": "python",
   "nbconvert_exporter": "python",
   "pygments_lexer": "ipython3",
   "version": "3.9.13"
  }
 },
 "nbformat": 4,
 "nbformat_minor": 5
}
