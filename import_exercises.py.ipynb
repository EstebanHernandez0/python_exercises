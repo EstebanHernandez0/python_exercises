{
 "cells": [
  {
   "cell_type": "code",
   "execution_count": 1,
   "id": "e373c607",
   "metadata": {},
   "outputs": [],
   "source": [
    "import numpy as np\n",
    "import matplotlib as mp\n",
    "import pandas as pd"
   ]
  },
  {
   "cell_type": "code",
   "execution_count": 2,
   "id": "d55508d9",
   "metadata": {},
   "outputs": [],
   "source": [
    "g = 100"
   ]
  },
  {
   "cell_type": "code",
   "execution_count": 3,
   "id": "c50a4321",
   "metadata": {},
   "outputs": [],
   "source": [
    "import mymodule as m"
   ]
  },
  {
   "cell_type": "code",
   "execution_count": 4,
   "id": "da0ba0a7",
   "metadata": {},
   "outputs": [
    {
     "ename": "SyntaxError",
     "evalue": "invalid syntax (2562067747.py, line 1)",
     "output_type": "error",
     "traceback": [
      "\u001b[0;36m  Input \u001b[0;32mIn [4]\u001b[0;36m\u001b[0m\n\u001b[0;31m    m.\u001b[0m\n\u001b[0m      ^\u001b[0m\n\u001b[0;31mSyntaxError\u001b[0m\u001b[0;31m:\u001b[0m invalid syntax\n"
     ]
    }
   ],
   "source": [
    "m."
   ]
  },
  {
   "cell_type": "code",
   "execution_count": null,
   "id": "05fc82a6",
   "metadata": {},
   "outputs": [],
   "source": [
    "m.cal_tip(g)"
   ]
  },
  {
   "cell_type": "code",
   "execution_count": null,
   "id": "f4db4102",
   "metadata": {},
   "outputs": [],
   "source": [
    "# Read about and use the itertools module from the python standard library to help you solve the following problems:"
   ]
  },
  {
   "cell_type": "code",
   "execution_count": null,
   "id": "e128ea52",
   "metadata": {},
   "outputs": [],
   "source": [
    "# How many different ways can you combine the letters from \"abc\" with the numbers 1, 2, and 3?"
   ]
  },
  {
   "cell_type": "code",
   "execution_count": 52,
   "id": "4b9b3aca",
   "metadata": {},
   "outputs": [],
   "source": [
    "import itertools as it"
   ]
  },
  {
   "cell_type": "code",
   "execution_count": 58,
   "id": "a1259d11",
   "metadata": {},
   "outputs": [
    {
     "data": {
      "text/plain": [
       "9"
      ]
     },
     "execution_count": 58,
     "metadata": {},
     "output_type": "execute_result"
    }
   ],
   "source": [
    "len(list(it.product('ABC', [1, 2, 3])))"
   ]
  },
  {
   "cell_type": "code",
   "execution_count": null,
   "id": "1542ecbe",
   "metadata": {},
   "outputs": [],
   "source": [
    "# How many different combinations are there of 2 letters from \"abcd\"?"
   ]
  },
  {
   "cell_type": "code",
   "execution_count": 61,
   "id": "9eb25528",
   "metadata": {},
   "outputs": [
    {
     "data": {
      "text/plain": [
       "6"
      ]
     },
     "execution_count": 61,
     "metadata": {},
     "output_type": "execute_result"
    }
   ],
   "source": [
    "len(list(it.combinations('ABCD', 2)))"
   ]
  },
  {
   "cell_type": "code",
   "execution_count": null,
   "id": "2f8c7093",
   "metadata": {},
   "outputs": [],
   "source": [
    "# How many different permutations are there of 2 letters from \"abcd\"?"
   ]
  },
  {
   "cell_type": "code",
   "execution_count": 62,
   "id": "3e0a530d",
   "metadata": {},
   "outputs": [
    {
     "data": {
      "text/plain": [
       "12"
      ]
     },
     "execution_count": 62,
     "metadata": {},
     "output_type": "execute_result"
    }
   ],
   "source": [
    "len(list(it.permutations('ABCD', 2)))"
   ]
  },
  {
   "cell_type": "code",
   "execution_count": 63,
   "id": "9afaa719",
   "metadata": {},
   "outputs": [],
   "source": [
    "# Save this file as profiles.json inside of your exercises directory (right click -> save file as...).\n",
    "\n",
    "# Use the load function from the json module to open this file."
   ]
  },
  {
   "cell_type": "code",
   "execution_count": 1,
   "id": "e7d22e7a",
   "metadata": {},
   "outputs": [],
   "source": [
    "import json\n",
    "\n",
    "profiles = json.load(open('profiles.json'))\n"
   ]
  },
  {
   "cell_type": "code",
   "execution_count": 6,
   "id": "71383a01",
   "metadata": {
    "scrolled": false
   },
   "outputs": [
    {
     "name": "stdout",
     "output_type": "stream",
     "text": [
      "{'_id': '54e23c3e46ab53a440b580e8', 'index': 0, 'guid': '9962b468-ef3e-4993-b677-617469bc3008', 'isActive': False, 'balance': '$2,097.02', 'picture': 'http://placehold.it/32x32', 'age': 39, 'eyeColor': 'blue', 'name': 'Hebert Estes', 'gender': 'male', 'company': 'ANDRYX', 'email': 'hebertestes@andryx.com', 'phone': '+1 (866) 456-2268', 'address': '121 Emmons Avenue, Klondike, Kentucky, 5975', 'about': 'Sit cillum deserunt irure laboris tempor fugiat laboris. Amet commodo amet est incididunt. Dolore qui fugiat cillum pariatur dolore excepteur elit ipsum.\\r\\n', 'registered': '2014-11-10T01:44:03 +06:00', 'latitude': -80.157843, 'longitude': 161.93016, 'tags': ['sit', 'occaecat', 'non', 'ea', 'sit', 'laboris', 'exercitation'], 'friends': [{'id': 0, 'name': 'Tanisha Leonard'}, {'id': 1, 'name': 'Dennis Wilson'}, {'id': 2, 'name': 'Lupe Howe'}], 'greeting': 'Hello, Hebert Estes! You have 4 unread messages.', 'favoriteFruit': 'strawberry'}\n",
      "-------------- \n",
      "\n",
      "{'_id': '54e23c3ef5cc0d250968c212', 'index': 1, 'guid': '905f849d-49bf-4a57-b4f3-5d6e4bf1b04c', 'isActive': False, 'balance': '$3,654.02', 'picture': 'http://placehold.it/32x32', 'age': 30, 'eyeColor': 'green', 'name': 'Allison Wynn', 'gender': 'male', 'company': 'PHARMACON', 'email': 'allisonwynn@pharmacon.com', 'phone': '+1 (926) 525-3131', 'address': '724 Brevoort Place, Lodoga, Indiana, 3880', 'about': 'Esse quis cillum sunt occaecat ad et eu incididunt aliquip dolor. Adipisicing labore magna anim cillum nisi. Elit mollit consequat velit nulla cillum excepteur elit ullamco deserunt. Anim aliquip Lorem excepteur ad veniam et labore in qui ullamco. Occaecat sit do incididunt voluptate id magna ea amet.\\r\\n', 'registered': '2014-06-10T13:41:26 +05:00', 'latitude': 55.737207, 'longitude': -167.177561, 'tags': ['enim', 'officia', 'laboris', 'irure', 'veniam', 'occaecat', 'pariatur'], 'friends': [{'id': 0, 'name': 'Curry Cox'}, {'id': 1, 'name': 'Alma Dale'}, {'id': 2, 'name': 'Barbara Mayo'}], 'greeting': 'Hello, Allison Wynn! You have 19 unread messages.', 'favoriteFruit': 'apple'}\n",
      "-------------- \n",
      "\n",
      "{'_id': '54e23c3e09cc6875638cd36b', 'index': 2, 'guid': '1b042d48-9cfa-4db5-8b60-4104165591c3', 'isActive': True, 'balance': '$1,536.02', 'picture': 'http://placehold.it/32x32', 'age': 31, 'eyeColor': 'brown', 'name': 'Jacobs Floyd', 'gender': 'male', 'company': 'QUONK', 'email': 'jacobsfloyd@quonk.com', 'phone': '+1 (853) 537-3315', 'address': '941 Cox Place, Bluffview, Georgia, 5882', 'about': 'Deserunt adipisicing proident exercitation cillum anim consectetur labore exercitation. Commodo reprehenderit laborum enim exercitation. Ullamco nulla culpa aliqua nisi fugiat consectetur deserunt nostrud in eu.\\r\\n', 'registered': '2014-07-30T03:17:32 +05:00', 'latitude': 30.215667, 'longitude': 68.831905, 'tags': ['est', 'aute', 'laborum', 'sint', 'anim', 'sit', 'consectetur'], 'friends': [{'id': 0, 'name': 'Robles Chan'}, {'id': 1, 'name': 'Whitfield Strickland'}, {'id': 2, 'name': 'Lina Melton'}], 'greeting': 'Hello, Jacobs Floyd! You have 5 unread messages.', 'favoriteFruit': 'banana'}\n",
      "-------------- \n",
      "\n",
      "{'_id': '54e23c3e54e4094147a3b1da', 'index': 3, 'guid': '69eb3454-8acc-46f1-a636-c6df00dfb542', 'isActive': False, 'balance': '$3,919.64', 'picture': 'http://placehold.it/32x32', 'age': 20, 'eyeColor': 'green', 'name': 'Fay Hammond', 'gender': 'female', 'company': 'INRT', 'email': 'fayhammond@inrt.com', 'phone': '+1 (922) 429-2592', 'address': '518 Randolph Street, Whitestone, Arizona, 8189', 'about': 'Aliqua sunt exercitation quis cupidatat fugiat nulla laboris occaecat ut reprehenderit qui incididunt. Amet excepteur qui amet mollit sint enim velit est dolor eu. Velit labore ea aute ipsum consequat culpa cupidatat excepteur aliqua. Sit commodo id est deserunt commodo. Labore sit deserunt enim in dolore incididunt. Officia qui est veniam cillum consequat minim duis Lorem esse magna culpa cupidatat cupidatat enim. Amet eiusmod elit qui reprehenderit commodo quis.\\r\\n', 'registered': '2015-01-30T08:05:38 +06:00', 'latitude': 33.825844, 'longitude': -65.969538, 'tags': ['aliqua', 'esse', 'sint', 'pariatur', 'commodo', 'do', 'anim'], 'friends': [{'id': 0, 'name': 'Dudley Booker'}, {'id': 1, 'name': 'Esmeralda Tyler'}, {'id': 2, 'name': 'Rosa Hampton'}], 'greeting': 'Hello, Fay Hammond! You have 10 unread messages.', 'favoriteFruit': 'banana'}\n",
      "-------------- \n",
      "\n",
      "{'_id': '54e23c3e177caf5567ba87ac', 'index': 4, 'guid': '97962c85-7700-4ffa-a01e-2fcbc147fd81', 'isActive': False, 'balance': '$3,681.39', 'picture': 'http://placehold.it/32x32', 'age': 39, 'eyeColor': 'green', 'name': 'Chasity Marsh', 'gender': 'female', 'company': 'WAZZU', 'email': 'chasitymarsh@wazzu.com', 'phone': '+1 (976) 425-2362', 'address': '604 Just Court, Eastvale, Federated States Of Micronesia, 8644', 'about': 'Irure excepteur consequat esse qui tempor deserunt nulla fugiat. Ut excepteur do veniam dolore dolor proident sunt voluptate ad ipsum nisi. Lorem proident deserunt Lorem cupidatat dolor nulla qui id aliqua. Et nulla laborum deserunt tempor ad culpa. Ullamco occaecat adipisicing dolore laborum laborum duis aliqua nisi irure ex. Incididunt tempor Lorem quis dolore.\\r\\n', 'registered': '2014-07-31T06:03:19 +05:00', 'latitude': -31.660978, 'longitude': 37.559095, 'tags': ['aliquip', 'duis', 'irure', 'amet', 'aliquip', 'dolore', 'esse'], 'friends': [{'id': 0, 'name': 'Kristina Glover'}, {'id': 1, 'name': 'Ora Christian'}, {'id': 2, 'name': 'Jacklyn Joseph'}], 'greeting': 'Hello, Chasity Marsh! You have 9 unread messages.', 'favoriteFruit': 'apple'}\n",
      "-------------- \n",
      "\n",
      "{'_id': '54e23c3eaffbb506aa15ec1c', 'index': 5, 'guid': 'fc3e04d1-44c2-449e-891a-d4f8053d14a4', 'isActive': True, 'balance': '$1,694.42', 'picture': 'http://placehold.it/32x32', 'age': 30, 'eyeColor': 'brown', 'name': 'Camacho Cortez', 'gender': 'male', 'company': 'EARTHWAX', 'email': 'camachocortez@earthwax.com', 'phone': '+1 (869) 528-2019', 'address': '101 Haring Street, Nicut, Louisiana, 1473', 'about': 'Qui ad commodo elit voluptate cupidatat exercitation amet ea laborum sunt aliquip nisi irure. Veniam voluptate eiusmod sint aliquip ea. Voluptate voluptate Lorem nulla laborum eiusmod occaecat et nostrud sint in cillum reprehenderit magna nulla. Lorem id fugiat laborum qui mollit amet. Culpa officia ipsum nisi culpa in. Fugiat quis eu cupidatat non culpa in ea velit pariatur non in excepteur.\\r\\n', 'registered': '2014-03-17T12:04:00 +05:00', 'latitude': 74.434627, 'longitude': 69.527088, 'tags': ['et', 'sit', 'in', 'id', 'ullamco', 'elit', 'laborum'], 'friends': [{'id': 0, 'name': 'Sexton Tillman'}, {'id': 1, 'name': 'Boone Steele'}, {'id': 2, 'name': 'Elvia Ward'}], 'greeting': 'Hello, Camacho Cortez! You have 19 unread messages.', 'favoriteFruit': 'apple'}\n",
      "-------------- \n",
      "\n",
      "{'_id': '54e23c3e0fd8074c2ca52667', 'index': 6, 'guid': 'af8d9a03-fde9-4039-b20c-c4708d4cfc3c', 'isActive': False, 'balance': '$1,214.10', 'picture': 'http://placehold.it/32x32', 'age': 35, 'eyeColor': 'green', 'name': 'Avery Flynn', 'gender': 'male', 'company': 'TERSANKI', 'email': 'averyflynn@tersanki.com', 'phone': '+1 (966) 404-2471', 'address': '569 Oakland Place, Beyerville, Puerto Rico, 2395', 'about': 'Minim consequat anim ad et tempor et pariatur cillum ut. Ea Lorem consectetur sunt aliquip ea minim minim id dolore incididunt qui magna. Magna velit labore dolore voluptate ut aliquip esse qui est ipsum cupidatat duis enim. Sunt esse eiusmod cupidatat duis quis sunt anim dolore adipisicing enim dolore aliqua mollit. Commodo sit ad eiusmod reprehenderit.\\r\\n', 'registered': '2014-04-13T10:25:03 +05:00', 'latitude': -89.879409, 'longitude': 143.441709, 'tags': ['quis', 'esse', 'Lorem', 'minim', 'nostrud', 'voluptate', 'laborum'], 'friends': [{'id': 0, 'name': 'Ball Henson'}, {'id': 1, 'name': 'Dalton Mccoy'}, {'id': 2, 'name': 'Carolina Sharp'}], 'greeting': 'Hello, Avery Flynn! You have 13 unread messages.', 'favoriteFruit': 'banana'}\n",
      "-------------- \n",
      "\n",
      "{'_id': '54e23c3eb112d96e4204914d', 'index': 7, 'guid': '95f1c020-f9eb-4a29-b236-e766759d89d0', 'isActive': False, 'balance': '$2,930.31', 'picture': 'http://placehold.it/32x32', 'age': 23, 'eyeColor': 'blue', 'name': 'Michael Cash', 'gender': 'male', 'company': 'ORBIXTAR', 'email': 'michaelcash@orbixtar.com', 'phone': '+1 (996) 439-3660', 'address': '808 Duryea Court, Downsville, Northern Mariana Islands, 2154', 'about': 'Minim proident minim consectetur nostrud dolor reprehenderit. Ea est proident non do cillum eu est dolor Lorem id. Tempor enim incididunt consequat voluptate nulla ipsum voluptate id. Incididunt enim laboris nostrud in exercitation est culpa nulla velit.\\r\\n', 'registered': '2014-05-24T17:56:54 +05:00', 'latitude': -86.621367, 'longitude': -4.06197, 'tags': ['eu', 'sit', 'dolore', 'culpa', 'Lorem', 'in', 'esse'], 'friends': [{'id': 0, 'name': 'Rodgers Nolan'}, {'id': 1, 'name': 'Jewel Marks'}, {'id': 2, 'name': 'Sue Mejia'}], 'greeting': 'Hello, Michael Cash! You have 17 unread messages.', 'favoriteFruit': 'strawberry'}\n",
      "-------------- \n",
      "\n",
      "{'_id': '54e23c3ef30f14d0e5afddf3', 'index': 8, 'guid': 'bde2d56f-2488-40d0-a7d2-21019ee8a18b', 'isActive': False, 'balance': '$1,944.15', 'picture': 'http://placehold.it/32x32', 'age': 25, 'eyeColor': 'green', 'name': 'Madeleine Bray', 'gender': 'female', 'company': 'KIDSTOCK', 'email': 'madeleinebray@kidstock.com', 'phone': '+1 (820) 541-2969', 'address': '684 Stratford Road, Rosine, District Of Columbia, 7177', 'about': 'Ullamco ea esse ullamco commodo quis amet ut ad. Sint eiusmod ullamco minim nostrud amet in ex adipisicing velit cillum Lorem enim nostrud. Deserunt esse incididunt eiusmod commodo ullamco id pariatur tempor duis laboris Lorem. Laboris magna Lorem quis laborum ullamco. Dolor minim magna ut occaecat in consequat consequat in commodo pariatur voluptate pariatur dolore. Quis exercitation cillum labore cillum laborum. Dolore est reprehenderit anim reprehenderit consectetur sit quis ea ut veniam.\\r\\n', 'registered': '2014-08-11T08:54:06 +05:00', 'latitude': 45.118798, 'longitude': -7.698707, 'tags': ['id', 'magna', 'excepteur', 'excepteur', 'excepteur', 'duis', 'excepteur'], 'friends': [{'id': 0, 'name': 'Herrera Doyle'}, {'id': 1, 'name': 'Berger Fisher'}, {'id': 2, 'name': 'Chang Coffey'}], 'greeting': 'Hello, Madeleine Bray! You have 2 unread messages.', 'favoriteFruit': 'strawberry'}\n",
      "-------------- \n",
      "\n",
      "{'_id': '54e23c3ebd80e9c26b057fa3', 'index': 9, 'guid': '75991ca5-05ed-499e-bbb5-f057f86d05d7', 'isActive': True, 'balance': '$2,839.22', 'picture': 'http://placehold.it/32x32', 'age': 37, 'eyeColor': 'blue', 'name': 'Corine French', 'gender': 'female', 'company': 'INTRAWEAR', 'email': 'corinefrench@intrawear.com', 'phone': '+1 (987) 573-3164', 'address': '964 Clara Street, Snyderville, Oklahoma, 3627', 'about': 'Sint cillum laborum labore duis fugiat voluptate adipisicing. Ad culpa et et ea incididunt nulla excepteur officia. Cillum veniam amet ipsum reprehenderit do eiusmod aliqua aute nisi Lorem consectetur esse in incididunt.\\r\\n', 'registered': '2014-06-25T20:17:13 +05:00', 'latitude': -37.637422, 'longitude': 154.195523, 'tags': ['laboris', 'in', 'dolore', 'mollit', 'velit', 'laboris', 'excepteur'], 'friends': [{'id': 0, 'name': 'Greta Hill'}, {'id': 1, 'name': 'Cline Curry'}, {'id': 2, 'name': 'Branch Sawyer'}], 'greeting': 'Hello, Corine French! You have 18 unread messages.', 'favoriteFruit': 'banana'}\n",
      "-------------- \n",
      "\n",
      "{'_id': '54e23c3e6d89c09f5507e7dd', 'index': 10, 'guid': '87cffc18-3acf-40c5-8708-1bb93f1b68de', 'isActive': True, 'balance': '$2,467.31', 'picture': 'http://placehold.it/32x32', 'age': 29, 'eyeColor': 'blue', 'name': 'Trudy Cummings', 'gender': 'female', 'company': 'SPLINX', 'email': 'trudycummings@splinx.com', 'phone': '+1 (925) 403-2797', 'address': '558 Charles Place, Tedrow, California, 9832', 'about': 'Non id adipisicing deserunt non magna ex adipisicing sint esse sint. Laborum ea nostrud Lorem voluptate quis proident eu nisi exercitation in. Consequat occaecat proident officia anim.\\r\\n', 'registered': '2014-03-13T17:54:31 +05:00', 'latitude': -36.185131, 'longitude': -37.774906, 'tags': ['aute', 'occaecat', 'ea', 'pariatur', 'consectetur', 'magna', 'ea'], 'friends': [{'id': 0, 'name': 'Amber Gates'}, {'id': 1, 'name': 'Barron Walsh'}, {'id': 2, 'name': 'Nell Bolton'}], 'greeting': 'Hello, Trudy Cummings! You have 2 unread messages.', 'favoriteFruit': 'strawberry'}\n",
      "-------------- \n",
      "\n",
      "{'_id': '54e23c3e4192cf53edd67c99', 'index': 11, 'guid': '5a5496f1-a027-4c21-85da-c399234cd9a5', 'isActive': True, 'balance': '$3,304.99', 'picture': 'http://placehold.it/32x32', 'age': 21, 'eyeColor': 'brown', 'name': 'Peggy Mayer', 'gender': 'female', 'company': 'ACCUPRINT', 'email': 'peggymayer@accuprint.com', 'phone': '+1 (854) 428-2585', 'address': '830 Willmohr Street, Crenshaw, Missouri, 6032', 'about': 'Aliqua sit enim cillum aliquip ad proident excepteur in consectetur eiusmod. Ipsum sint cillum veniam eiusmod aute sunt et do est tempor. Lorem elit dolor dolore incididunt cillum. Enim occaecat minim sunt cillum est velit cillum deserunt tempor eu.\\r\\n', 'registered': '2014-09-14T07:06:49 +05:00', 'latitude': 48.323912, 'longitude': 22.184821, 'tags': ['commodo', 'esse', 'ad', 'ullamco', 'ea', 'sint', 'ipsum'], 'friends': [{'id': 0, 'name': 'Hopkins Mccall'}, {'id': 1, 'name': 'Nielsen Weeks'}, {'id': 2, 'name': 'Dale Knowles'}], 'greeting': 'Hello, Peggy Mayer! You have 13 unread messages.', 'favoriteFruit': 'strawberry'}\n",
      "-------------- \n",
      "\n",
      "{'_id': '54e23c3eedcc65f0ec3a5496', 'index': 12, 'guid': '759a21c4-5f9c-4189-9c50-c9d8a9f31037', 'isActive': False, 'balance': '$3,844.42', 'picture': 'http://placehold.it/32x32', 'age': 40, 'eyeColor': 'brown', 'name': 'Chan Hurley', 'gender': 'male', 'company': 'ZEAM', 'email': 'chanhurley@zeam.com', 'phone': '+1 (917) 475-3705', 'address': '915 Channel Avenue, Clinton, North Dakota, 6244', 'about': 'Voluptate exercitation ut anim ex adipisicing ut do officia incididunt fugiat cupidatat aliqua. Cillum ullamco irure dolore est consectetur non consequat. Nulla ullamco eu irure qui dolor magna ipsum id in enim voluptate aute. Officia aliqua dolore ut reprehenderit Lorem cillum. Cillum reprehenderit eu cillum aliqua sint eiusmod cupidatat culpa elit in. Fugiat voluptate reprehenderit amet anim qui nisi velit aliqua proident anim.\\r\\n', 'registered': '2014-03-01T14:51:23 +06:00', 'latitude': 85.901051, 'longitude': -74.986179, 'tags': ['minim', 'veniam', 'sit', 'aute', 'irure', 'non', 'eiusmod'], 'friends': [{'id': 0, 'name': 'Reese Grant'}, {'id': 1, 'name': 'Jenna Kinney'}, {'id': 2, 'name': 'Rhea May'}], 'greeting': 'Hello, Chan Hurley! You have 7 unread messages.', 'favoriteFruit': 'apple'}\n",
      "-------------- \n",
      "\n",
      "{'_id': '54e23c3eb813e66c6d33aa82', 'index': 13, 'guid': '6fd14a8e-3158-48eb-a7e1-93fe57b74746', 'isActive': True, 'balance': '$3,594.99', 'picture': 'http://placehold.it/32x32', 'age': 40, 'eyeColor': 'blue', 'name': 'Diaz Pena', 'gender': 'male', 'company': 'SUREPLEX', 'email': 'diazpena@sureplex.com', 'phone': '+1 (986) 511-3050', 'address': '184 Kingsway Place, Grantville, Michigan, 2421', 'about': 'Enim elit amet officia consectetur do Lorem reprehenderit cupidatat exercitation velit. Ex tempor esse consectetur dolore aute et. Cupidatat duis nulla in incididunt nulla ullamco non magna officia commodo anim. Labore quis ullamco est deserunt excepteur duis nostrud deserunt cillum proident. Non eiusmod consectetur pariatur deserunt irure quis exercitation ex incididunt quis dolore pariatur sunt irure. Eu do fugiat laboris tempor culpa.\\r\\n', 'registered': '2014-04-19T20:43:12 +05:00', 'latitude': 6.606991, 'longitude': 81.593748, 'tags': ['excepteur', 'elit', 'ullamco', 'excepteur', 'ad', 'quis', 'dolore'], 'friends': [{'id': 0, 'name': 'Mcmillan Knox'}, {'id': 1, 'name': 'Flossie Dixon'}, {'id': 2, 'name': 'Sears Carson'}], 'greeting': 'Hello, Diaz Pena! You have 13 unread messages.', 'favoriteFruit': 'strawberry'}\n",
      "-------------- \n",
      "\n",
      "{'_id': '54e23c3e502a2f526b689c3e', 'index': 14, 'guid': '459cc82d-7878-42cb-b9c6-073506380036', 'isActive': True, 'balance': '$2,940.24', 'picture': 'http://placehold.it/32x32', 'age': 40, 'eyeColor': 'brown', 'name': 'Heath Castaneda', 'gender': 'male', 'company': 'NETPLODE', 'email': 'heathcastaneda@netplode.com', 'phone': '+1 (944) 478-3741', 'address': '278 Village Road, Sunnyside, Massachusetts, 7496', 'about': 'Consectetur mollit cupidatat ex consectetur eiusmod ut. Cupidatat anim cupidatat cupidatat minim ipsum et quis amet proident pariatur. Do consectetur fugiat quis nisi non. Ut eu consequat consequat in ullamco eiusmod quis cillum sunt dolore anim. Non irure aliqua aliqua enim elit labore consequat.\\r\\n', 'registered': '2014-07-30T21:38:43 +05:00', 'latitude': 69.928876, 'longitude': 33.649878, 'tags': ['elit', 'commodo', 'ut', 'ullamco', 'ullamco', 'velit', 'ullamco'], 'friends': [{'id': 0, 'name': 'Dora Mack'}, {'id': 1, 'name': 'Christensen Camacho'}, {'id': 2, 'name': 'Castro Kelly'}], 'greeting': 'Hello, Heath Castaneda! You have 12 unread messages.', 'favoriteFruit': 'strawberry'}\n",
      "-------------- \n",
      "\n",
      "{'_id': '54e23c3e69d22e49c7fe62de', 'index': 15, 'guid': '33d2bbe5-d6f7-4844-88fc-b9f6af63b373', 'isActive': False, 'balance': '$3,062.41', 'picture': 'http://placehold.it/32x32', 'age': 38, 'eyeColor': 'brown', 'name': 'Greer Blankenship', 'gender': 'male', 'company': 'QUALITERN', 'email': 'greerblankenship@qualitern.com', 'phone': '+1 (957) 482-3874', 'address': '557 Ingraham Street, Brambleton, South Dakota, 8482', 'about': 'Non in excepteur nostrud consectetur. Qui non consectetur officia incididunt elit laboris exercitation exercitation est minim veniam ullamco dolore. Eu sit aute culpa ex sunt amet. Ut et amet Lorem sunt anim pariatur.\\r\\n', 'registered': '2014-03-30T21:39:41 +05:00', 'latitude': -71.093388, 'longitude': 65.740255, 'tags': ['enim', 'eiusmod', 'Lorem', 'reprehenderit', 'nisi', 'anim', 'sunt'], 'friends': [{'id': 0, 'name': 'Woods Norman'}, {'id': 1, 'name': 'Marilyn Haney'}, {'id': 2, 'name': 'Webster Nielsen'}], 'greeting': 'Hello, Greer Blankenship! You have 7 unread messages.', 'favoriteFruit': 'banana'}\n",
      "-------------- \n",
      "\n",
      "{'_id': '54e23c3e42676228c442a669', 'index': 16, 'guid': 'e44604f0-c7a8-4b89-bda3-0f4710ebe28a', 'isActive': False, 'balance': '$3,067.82', 'picture': 'http://placehold.it/32x32', 'age': 32, 'eyeColor': 'green', 'name': 'Coffey Hayes', 'gender': 'male', 'company': 'INQUALA', 'email': 'coffeyhayes@inquala.com', 'phone': '+1 (880) 451-3490', 'address': '490 Durland Place, Craig, Tennessee, 5034', 'about': 'Est esse irure Lorem ullamco veniam fugiat laborum veniam excepteur. Ad enim pariatur nostrud excepteur et nostrud velit dolore ex enim cillum in aliquip fugiat. Nulla laborum exercitation irure magna elit laborum magna ad excepteur. Cillum pariatur Lorem eiusmod ad dolore eiusmod veniam do minim laborum in dolor. Reprehenderit elit ad id voluptate Lorem Lorem dolor cupidatat excepteur. Proident minim ea aute nulla.\\r\\n', 'registered': '2014-04-01T23:04:39 +05:00', 'latitude': -30.662644, 'longitude': 59.806684, 'tags': ['duis', 'est', 'in', 'officia', 'nostrud', 'occaecat', 'mollit'], 'friends': [{'id': 0, 'name': 'Suarez Perry'}, {'id': 1, 'name': 'Marlene Sheppard'}, {'id': 2, 'name': 'Cohen Yates'}], 'greeting': 'Hello, Coffey Hayes! You have 19 unread messages.', 'favoriteFruit': 'strawberry'}\n",
      "-------------- \n",
      "\n",
      "{'_id': '54e23c3e4ac5969958013235', 'index': 17, 'guid': 'fa7e26df-d239-41e8-9aa9-be5e808b6f89', 'isActive': True, 'balance': '$2,646.76', 'picture': 'http://placehold.it/32x32', 'age': 24, 'eyeColor': 'brown', 'name': 'Leanne Hurst', 'gender': 'female', 'company': 'ACCIDENCY', 'email': 'leannehurst@accidency.com', 'phone': '+1 (820) 420-3317', 'address': '196 Columbus Place, Carbonville, New Jersey, 7513', 'about': 'Dolor occaecat dolore ut tempor. Veniam elit anim duis do pariatur. Qui excepteur nisi eiusmod mollit laboris fugiat commodo ipsum reprehenderit labore cillum. Aliquip laborum commodo nisi cupidatat labore nostrud exercitation adipisicing mollit eu magna proident ex Lorem. Nostrud magna sint sint consequat consectetur et sint.\\r\\n', 'registered': '2014-11-10T01:25:55 +06:00', 'latitude': 16.671695, 'longitude': 139.707959, 'tags': ['culpa', 'deserunt', 'tempor', 'quis', 'reprehenderit', 'incididunt', 'est'], 'friends': [{'id': 0, 'name': 'Farley Frank'}, {'id': 1, 'name': 'Pruitt Frye'}, {'id': 2, 'name': 'Simpson Cardenas'}], 'greeting': 'Hello, Leanne Hurst! You have 5 unread messages.', 'favoriteFruit': 'banana'}\n",
      "-------------- \n",
      "\n",
      "{'_id': '54e23c3ed945981ba2580614', 'index': 18, 'guid': 'e608dc5c-fee4-4086-971b-3ebd37bfa137', 'isActive': True, 'balance': '$2,227.79', 'picture': 'http://placehold.it/32x32', 'age': 22, 'eyeColor': 'brown', 'name': 'Ewing Larson', 'gender': 'male', 'company': 'ESCENTA', 'email': 'ewinglarson@escenta.com', 'phone': '+1 (943) 439-3760', 'address': '136 Beard Street, Wattsville, New Hampshire, 2803', 'about': 'Veniam eiusmod exercitation culpa mollit reprehenderit ullamco voluptate voluptate irure qui duis anim et. Laborum dolor quis do voluptate. In pariatur dolor id mollit et enim. Qui ex qui in cillum irure enim non reprehenderit irure et excepteur aliquip eu eu.\\r\\n', 'registered': '2014-07-21T19:17:41 +05:00', 'latitude': 15.903555, 'longitude': -159.721203, 'tags': ['Lorem', 'magna', 'dolor', 'aliquip', 'reprehenderit', 'eu', 'voluptate'], 'friends': [{'id': 0, 'name': 'Suzette Huffman'}, {'id': 1, 'name': 'Paige Santiago'}, {'id': 2, 'name': 'Dollie Fernandez'}], 'greeting': 'Hello, Ewing Larson! You have 16 unread messages.', 'favoriteFruit': 'strawberry'}\n",
      "-------------- \n",
      "\n"
     ]
    }
   ],
   "source": [
    "for profile in profiles:\n",
    "    print(profile)\n",
    "    print('--------------', '\\n')"
   ]
  },
  {
   "cell_type": "code",
   "execution_count": null,
   "id": "c45c7aec",
   "metadata": {},
   "outputs": [],
   "source": [
    "# Total number of users"
   ]
  },
  {
   "cell_type": "code",
   "execution_count": 64,
   "id": "af943463",
   "metadata": {},
   "outputs": [
    {
     "name": "stdout",
     "output_type": "stream",
     "text": [
      "1\n",
      "2\n",
      "3\n",
      "4\n",
      "5\n",
      "6\n",
      "7\n",
      "8\n",
      "9\n",
      "10\n",
      "11\n",
      "12\n",
      "13\n",
      "14\n",
      "15\n",
      "16\n",
      "17\n",
      "18\n",
      "19\n"
     ]
    }
   ],
   "source": [
    "count = 0\n",
    "for profile in profiles:\n",
    "    count = count + 1\n",
    "    print(count)"
   ]
  },
  {
   "cell_type": "code",
   "execution_count": 67,
   "id": "9ba6e83b",
   "metadata": {},
   "outputs": [
    {
     "data": {
      "text/plain": [
       "['54e23c3e46ab53a440b580e8',\n",
       " '54e23c3ef5cc0d250968c212',\n",
       " '54e23c3e09cc6875638cd36b',\n",
       " '54e23c3e54e4094147a3b1da',\n",
       " '54e23c3e177caf5567ba87ac',\n",
       " '54e23c3eaffbb506aa15ec1c',\n",
       " '54e23c3e0fd8074c2ca52667',\n",
       " '54e23c3eb112d96e4204914d',\n",
       " '54e23c3ef30f14d0e5afddf3',\n",
       " '54e23c3ebd80e9c26b057fa3',\n",
       " '54e23c3e6d89c09f5507e7dd',\n",
       " '54e23c3e4192cf53edd67c99',\n",
       " '54e23c3eedcc65f0ec3a5496',\n",
       " '54e23c3eb813e66c6d33aa82',\n",
       " '54e23c3e502a2f526b689c3e',\n",
       " '54e23c3e69d22e49c7fe62de',\n",
       " '54e23c3e42676228c442a669',\n",
       " '54e23c3e4ac5969958013235',\n",
       " '54e23c3ed945981ba2580614']"
      ]
     },
     "execution_count": 67,
     "metadata": {},
     "output_type": "execute_result"
    }
   ],
   "source": [
    "# not my answer\n",
    "len(profiles)\n",
    "\n",
    "profile_ids = [profile['_id'] for profile in profiles]\n",
    "profile_ids"
   ]
  },
  {
   "cell_type": "code",
   "execution_count": null,
   "id": "2cc772d7",
   "metadata": {},
   "outputs": [],
   "source": [
    "# Number of active users"
   ]
  },
  {
   "cell_type": "code",
   "execution_count": 71,
   "id": "46ef1f11",
   "metadata": {},
   "outputs": [],
   "source": [
    "count = 0\n",
    "for profile in profiles:\n",
    "    if profile['isActive'] == True:\n",
    "        count = count + 1\n",
    "        "
   ]
  },
  {
   "cell_type": "code",
   "execution_count": 72,
   "id": "6871aed5",
   "metadata": {},
   "outputs": [
    {
     "data": {
      "text/plain": [
       "9"
      ]
     },
     "execution_count": 72,
     "metadata": {},
     "output_type": "execute_result"
    }
   ],
   "source": [
    "count"
   ]
  },
  {
   "cell_type": "code",
   "execution_count": 68,
   "id": "e83e72c7",
   "metadata": {},
   "outputs": [
    {
     "data": {
      "text/plain": [
       "9"
      ]
     },
     "execution_count": 68,
     "metadata": {},
     "output_type": "execute_result"
    }
   ],
   "source": [
    "# not my answers\n",
    "active_user = [profile for profile in profiles if profile['isActive']]\n",
    "len(active_user)\n"
   ]
  },
  {
   "cell_type": "code",
   "execution_count": null,
   "id": "8d69906c",
   "metadata": {},
   "outputs": [],
   "source": [
    "# Number of inactive users"
   ]
  },
  {
   "cell_type": "code",
   "execution_count": 76,
   "id": "3e0e4fa4",
   "metadata": {},
   "outputs": [],
   "source": [
    "in_act = 0\n",
    "for profile in profiles:\n",
    "    if profile['isActive'] != True:\n",
    "        count = count + 1\n",
    "        "
   ]
  },
  {
   "cell_type": "code",
   "execution_count": 77,
   "id": "d291617d",
   "metadata": {},
   "outputs": [
    {
     "data": {
      "text/plain": [
       "0"
      ]
     },
     "execution_count": 77,
     "metadata": {},
     "output_type": "execute_result"
    }
   ],
   "source": [
    "in_act"
   ]
  },
  {
   "cell_type": "code",
   "execution_count": 75,
   "id": "a78af329",
   "metadata": {},
   "outputs": [
    {
     "data": {
      "text/plain": [
       "10"
      ]
     },
     "execution_count": 75,
     "metadata": {},
     "output_type": "execute_result"
    }
   ],
   "source": [
    "inactive_users = [profile for profile in profiles if not (profile['isActive'])]\n",
    "len(inactive_users)"
   ]
  },
  {
   "cell_type": "code",
   "execution_count": null,
   "id": "b10ba840",
   "metadata": {},
   "outputs": [],
   "source": [
    "# Grand total of balances for all users"
   ]
  },
  {
   "cell_type": "code",
   "execution_count": 4,
   "id": "7a694ea4",
   "metadata": {},
   "outputs": [
    {
     "name": "stdout",
     "output_type": "stream",
     "text": [
      "52667.02\n"
     ]
    }
   ],
   "source": [
    "string_bal = 0\n",
    "\n",
    "for i in profiles:\n",
    "    string_bal += float(i['balance'].replace(\"$\", \"\").replace(\",\", \"\"))\n",
    "print(string_bal)\n"
   ]
  },
  {
   "cell_type": "code",
   "execution_count": 3,
   "id": "80b47ebb",
   "metadata": {},
   "outputs": [
    {
     "ename": "TypeError",
     "evalue": "unsupported operand type(s) for +=: 'int' and 'str'",
     "output_type": "error",
     "traceback": [
      "\u001b[0;31m---------------------------------------------------------------------------\u001b[0m",
      "\u001b[0;31mTypeError\u001b[0m                                 Traceback (most recent call last)",
      "Input \u001b[0;32mIn [3]\u001b[0m, in \u001b[0;36m<cell line: 5>\u001b[0;34m()\u001b[0m\n\u001b[1;32m      3\u001b[0m total_balance \u001b[38;5;241m=\u001b[39m \u001b[38;5;241m0\u001b[39m\n\u001b[1;32m      5\u001b[0m \u001b[38;5;28;01mfor\u001b[39;00m profile \u001b[38;5;129;01min\u001b[39;00m profiles:\n\u001b[0;32m----> 6\u001b[0m     total_balance \u001b[38;5;241m+\u001b[39m\u001b[38;5;241m=\u001b[39m profile[\u001b[38;5;124m'\u001b[39m\u001b[38;5;124mbalance\u001b[39m\u001b[38;5;124m'\u001b[39m]\n\u001b[1;32m      7\u001b[0m total_balance\n",
      "\u001b[0;31mTypeError\u001b[0m: unsupported operand type(s) for +=: 'int' and 'str'"
     ]
    }
   ],
   "source": [
    "# not my answer\n",
    "\n",
    "total_balance = 0\n",
    "\n",
    "for profile in profiles:\n",
    "    total_balance += profile['balance']\n",
    "total_balance"
   ]
  },
  {
   "cell_type": "code",
   "execution_count": 18,
   "id": "31bfe815",
   "metadata": {},
   "outputs": [],
   "source": [
    "# not my answer\n",
    "def clean_bal(balance):\n",
    "    balance = balance.replace(\"$\", \"\")\n",
    "    balance = balance.replace(\",\", \"\")\n",
    "    return float(balance)"
   ]
  },
  {
   "cell_type": "code",
   "execution_count": 23,
   "id": "3387939e",
   "metadata": {},
   "outputs": [
    {
     "data": {
      "text/plain": [
       "function"
      ]
     },
     "execution_count": 23,
     "metadata": {},
     "output_type": "execute_result"
    }
   ],
   "source": [
    "type(clean)"
   ]
  },
  {
   "cell_type": "code",
   "execution_count": 20,
   "id": "49c9b56d",
   "metadata": {},
   "outputs": [
    {
     "ename": "AttributeError",
     "evalue": "'float' object has no attribute 'replace'",
     "output_type": "error",
     "traceback": [
      "\u001b[0;31m---------------------------------------------------------------------------\u001b[0m",
      "\u001b[0;31mAttributeError\u001b[0m                            Traceback (most recent call last)",
      "Input \u001b[0;32mIn [20]\u001b[0m, in \u001b[0;36m<cell line: 1>\u001b[0;34m()\u001b[0m\n\u001b[1;32m      1\u001b[0m \u001b[38;5;28;01mfor\u001b[39;00m profile \u001b[38;5;129;01min\u001b[39;00m profiles:\n\u001b[0;32m----> 2\u001b[0m     profile[\u001b[38;5;124m'\u001b[39m\u001b[38;5;124mbalance\u001b[39m\u001b[38;5;124m'\u001b[39m] \u001b[38;5;241m=\u001b[39m \u001b[43mclean_bal\u001b[49m\u001b[43m(\u001b[49m\u001b[43mprofile\u001b[49m\u001b[43m[\u001b[49m\u001b[38;5;124;43m'\u001b[39;49m\u001b[38;5;124;43mbalance\u001b[39;49m\u001b[38;5;124;43m'\u001b[39;49m\u001b[43m]\u001b[49m\u001b[43m)\u001b[49m\n",
      "Input \u001b[0;32mIn [18]\u001b[0m, in \u001b[0;36mclean_bal\u001b[0;34m(balance)\u001b[0m\n\u001b[1;32m      2\u001b[0m \u001b[38;5;28;01mdef\u001b[39;00m \u001b[38;5;21mclean_bal\u001b[39m(balance):\n\u001b[0;32m----> 3\u001b[0m     balance \u001b[38;5;241m=\u001b[39m \u001b[43mbalance\u001b[49m\u001b[38;5;241;43m.\u001b[39;49m\u001b[43mreplace\u001b[49m(\u001b[38;5;124m\"\u001b[39m\u001b[38;5;124m$\u001b[39m\u001b[38;5;124m\"\u001b[39m, \u001b[38;5;124m\"\u001b[39m\u001b[38;5;124m\"\u001b[39m)\n\u001b[1;32m      4\u001b[0m     balance \u001b[38;5;241m=\u001b[39m balance\u001b[38;5;241m.\u001b[39mreplace(\u001b[38;5;124m\"\u001b[39m\u001b[38;5;124m,\u001b[39m\u001b[38;5;124m\"\u001b[39m, \u001b[38;5;124m\"\u001b[39m\u001b[38;5;124m\"\u001b[39m)\n\u001b[1;32m      5\u001b[0m     \u001b[38;5;28;01mreturn\u001b[39;00m \u001b[38;5;28mfloat\u001b[39m(balance)\n",
      "\u001b[0;31mAttributeError\u001b[0m: 'float' object has no attribute 'replace'"
     ]
    }
   ],
   "source": [
    "for profile in profiles:\n",
    "    profile['balance'] = clean_bal(profile['balance'])"
   ]
  },
  {
   "cell_type": "code",
   "execution_count": null,
   "id": "d353a2f1",
   "metadata": {},
   "outputs": [],
   "source": [
    "# Average balance per user"
   ]
  },
  {
   "cell_type": "code",
   "execution_count": 2,
   "id": "3c36d816",
   "metadata": {},
   "outputs": [
    {
     "name": "stdout",
     "output_type": "stream",
     "text": [
      "2771.9484210526316\n"
     ]
    }
   ],
   "source": [
    "string_bal = 0\n",
    "\n",
    "for i in profiles:\n",
    "    string_bal += float(i['balance'].replace(\"$\", \"\").replace(\",\", \"\"))\n",
    "print((string_bal) / len(profiles))"
   ]
  },
  {
   "cell_type": "code",
   "execution_count": null,
   "id": "289b3939",
   "metadata": {
    "collapsed": true
   },
   "outputs": [],
   "source": [
    "# not my answer\n",
    "total_user = len(profile_ids)"
   ]
  },
  {
   "cell_type": "code",
   "execution_count": 5,
   "id": "fd464932",
   "metadata": {},
   "outputs": [
    {
     "ename": "NameError",
     "evalue": "name 'total_users' is not defined",
     "output_type": "error",
     "traceback": [
      "\u001b[0;31m---------------------------------------------------------------------------\u001b[0m",
      "\u001b[0;31mNameError\u001b[0m                                 Traceback (most recent call last)",
      "Input \u001b[0;32mIn [5]\u001b[0m, in \u001b[0;36m<cell line: 1>\u001b[0;34m()\u001b[0m\n\u001b[0;32m----> 1\u001b[0m avg_bal \u001b[38;5;241m=\u001b[39m total_balance \u001b[38;5;241m/\u001b[39m \u001b[43mtotal_users\u001b[49m\n\u001b[1;32m      2\u001b[0m avg_bal\n",
      "\u001b[0;31mNameError\u001b[0m: name 'total_users' is not defined"
     ]
    }
   ],
   "source": [
    "avg_bal = total_balance / total_users\n",
    "avg_bal"
   ]
  },
  {
   "cell_type": "code",
   "execution_count": null,
   "id": "44fb68d9",
   "metadata": {},
   "outputs": [],
   "source": [
    "# User with the lowest balance"
   ]
  },
  {
   "cell_type": "code",
   "execution_count": 11,
   "id": "c56644e8",
   "metadata": {},
   "outputs": [
    {
     "name": "stdout",
     "output_type": "stream",
     "text": [
      "Avery Flynn 1214.1\n"
     ]
    }
   ],
   "source": [
    "name = ''\n",
    "least = 1000000\n",
    "for i in profiles:\n",
    "    i['balance'] = float(i['balance'].replace(\"$\", \"\").replace(\",\", \"\"))\n",
    "    if i['balance'] < least:\n",
    "        name = i['name']\n",
    "        least = i['balance']\n",
    "print(name, least)"
   ]
  },
  {
   "cell_type": "code",
   "execution_count": 8,
   "id": "7c0bdef9",
   "metadata": {},
   "outputs": [
    {
     "data": {
      "text/plain": [
       "['$2,097.02',\n",
       " '$3,654.02',\n",
       " '$1,536.02',\n",
       " '$3,919.64',\n",
       " '$3,681.39',\n",
       " '$1,694.42',\n",
       " '$1,214.10',\n",
       " '$2,930.31',\n",
       " '$1,944.15',\n",
       " '$2,839.22',\n",
       " '$2,467.31',\n",
       " '$3,304.99',\n",
       " '$3,844.42',\n",
       " '$3,594.99',\n",
       " '$2,940.24',\n",
       " '$3,062.41',\n",
       " '$3,067.82',\n",
       " '$2,646.76',\n",
       " '$2,227.79']"
      ]
     },
     "execution_count": 8,
     "metadata": {},
     "output_type": "execute_result"
    }
   ],
   "source": [
    "# not my answer\n",
    "list_of_bal = [profile['balance'] for profile in profiles]\n",
    "list_of_bal"
   ]
  },
  {
   "cell_type": "code",
   "execution_count": 9,
   "id": "5c1f151d",
   "metadata": {},
   "outputs": [
    {
     "data": {
      "text/plain": [
       "'$1,214.10'"
      ]
     },
     "execution_count": 9,
     "metadata": {},
     "output_type": "execute_result"
    }
   ],
   "source": [
    "min(list_of_bal)"
   ]
  },
  {
   "cell_type": "code",
   "execution_count": 14,
   "id": "c38331c5",
   "metadata": {},
   "outputs": [
    {
     "name": "stdout",
     "output_type": "stream",
     "text": [
      "User Avery Flynn has the lowest balance $1,214.10\n"
     ]
    }
   ],
   "source": [
    "for profile in profiles:\n",
    "    if profile['balance'] == min(list_of_bal):\n",
    "        print(f'User {profile[\"name\"]} has the lowest balance {profile[\"balance\"]}')"
   ]
  },
  {
   "cell_type": "code",
   "execution_count": null,
   "id": "560311ce",
   "metadata": {},
   "outputs": [],
   "source": [
    "# User with the highest balance"
   ]
  },
  {
   "cell_type": "code",
   "execution_count": 12,
   "id": "75f93846",
   "metadata": {
    "scrolled": true
   },
   "outputs": [
    {
     "ename": "AttributeError",
     "evalue": "'float' object has no attribute 'replace'",
     "output_type": "error",
     "traceback": [
      "\u001b[0;31m---------------------------------------------------------------------------\u001b[0m",
      "\u001b[0;31mAttributeError\u001b[0m                            Traceback (most recent call last)",
      "Input \u001b[0;32mIn [12]\u001b[0m, in \u001b[0;36m<cell line: 3>\u001b[0;34m()\u001b[0m\n\u001b[1;32m      2\u001b[0m most \u001b[38;5;241m=\u001b[39m \u001b[38;5;241m0\u001b[39m\n\u001b[1;32m      3\u001b[0m \u001b[38;5;28;01mfor\u001b[39;00m i \u001b[38;5;129;01min\u001b[39;00m profiles:\n\u001b[0;32m----> 4\u001b[0m     i[\u001b[38;5;124m'\u001b[39m\u001b[38;5;124mbalance\u001b[39m\u001b[38;5;124m'\u001b[39m] \u001b[38;5;241m=\u001b[39m \u001b[38;5;28mfloat\u001b[39m(\u001b[43mi\u001b[49m\u001b[43m[\u001b[49m\u001b[38;5;124;43m'\u001b[39;49m\u001b[38;5;124;43mbalance\u001b[39;49m\u001b[38;5;124;43m'\u001b[39;49m\u001b[43m]\u001b[49m\u001b[38;5;241;43m.\u001b[39;49m\u001b[43mreplace\u001b[49m(\u001b[38;5;124m\"\u001b[39m\u001b[38;5;124m$\u001b[39m\u001b[38;5;124m\"\u001b[39m, \u001b[38;5;124m\"\u001b[39m\u001b[38;5;124m\"\u001b[39m)\u001b[38;5;241m.\u001b[39mreplace(\u001b[38;5;124m\"\u001b[39m\u001b[38;5;124m,\u001b[39m\u001b[38;5;124m\"\u001b[39m, \u001b[38;5;124m\"\u001b[39m\u001b[38;5;124m\"\u001b[39m))\n\u001b[1;32m      5\u001b[0m     \u001b[38;5;28;01mif\u001b[39;00m i[\u001b[38;5;124m'\u001b[39m\u001b[38;5;124mbalance\u001b[39m\u001b[38;5;124m'\u001b[39m] \u001b[38;5;241m>\u001b[39m most:\n\u001b[1;32m      6\u001b[0m         name \u001b[38;5;241m=\u001b[39m i[\u001b[38;5;124m'\u001b[39m\u001b[38;5;124mname\u001b[39m\u001b[38;5;124m'\u001b[39m]\n",
      "\u001b[0;31mAttributeError\u001b[0m: 'float' object has no attribute 'replace'"
     ]
    }
   ],
   "source": [
    "name = ''\n",
    "most = 0\n",
    "for i in profiles:\n",
    "    i['balance'] = float(i['balance'].replace(\"$\", \"\").replace(\",\", \"\"))\n",
    "    if i['balance'] > most:\n",
    "        name = i['name']\n",
    "        max = i['balance']\n",
    "print(name, most)"
   ]
  },
  {
   "cell_type": "code",
   "execution_count": 13,
   "id": "f2bc0b15",
   "metadata": {},
   "outputs": [
    {
     "name": "stdout",
     "output_type": "stream",
     "text": [
      "User Fay Hammond has the lowest balance $3,919.64\n"
     ]
    }
   ],
   "source": [
    "# not my answer\n",
    "for profile in profiles:\n",
    "    if profile['balance'] == max(list_of_bal):\n",
    "        print(f'User {profile[\"name\"]} has the lowest balance {profile[\"balance\"]}')"
   ]
  },
  {
   "cell_type": "code",
   "execution_count": null,
   "id": "98cb462b",
   "metadata": {},
   "outputs": [],
   "source": [
    "# Most common favorite fruit"
   ]
  },
  {
   "cell_type": "code",
   "execution_count": 44,
   "id": "09be6f7c",
   "metadata": {},
   "outputs": [
    {
     "name": "stdout",
     "output_type": "stream",
     "text": [
      "['strawberry', 'apple', 'banana', 'banana', 'apple', 'apple', 'banana', 'strawberry', 'strawberry', 'banana', 'strawberry', 'strawberry', 'apple', 'strawberry', 'strawberry', 'banana', 'strawberry', 'banana', 'strawberry']\n"
     ]
    }
   ],
   "source": [
    "fruit_dict = []\n",
    "for i in profiles:\n",
    "    \n",
    "    fruit_dict.append(i['favoriteFruit'])\n",
    "print(fruit_dict)\n",
    "        "
   ]
  },
  {
   "cell_type": "code",
   "execution_count": 51,
   "id": "ee495708",
   "metadata": {},
   "outputs": [
    {
     "name": "stdout",
     "output_type": "stream",
     "text": [
      "9 6 4\n"
     ]
    }
   ],
   "source": [
    "sb_count = 0\n",
    "bn_count = 0 \n",
    "ap_count = 0\n",
    "for i in fruit_dict:\n",
    "    if i == 'strawberry':\n",
    "        sb_count = sb_count + 1\n",
    "        \n",
    "    \n",
    "    elif i == 'banana':\n",
    "        bn_count = bn_count + 1\n",
    "        \n",
    "        \n",
    "    elif i == 'apple':\n",
    "        ap_count = ap_count + 1\n",
    "print(sb_count, bn_count, ap_count)"
   ]
  },
  {
   "cell_type": "code",
   "execution_count": 17,
   "id": "0f3b8ed5",
   "metadata": {},
   "outputs": [
    {
     "ename": "TypeError",
     "evalue": "list indices must be integers or slices, not str",
     "output_type": "error",
     "traceback": [
      "\u001b[0;31m---------------------------------------------------------------------------\u001b[0m",
      "\u001b[0;31mTypeError\u001b[0m                                 Traceback (most recent call last)",
      "Input \u001b[0;32mIn [17]\u001b[0m, in \u001b[0;36m<cell line: 3>\u001b[0;34m()\u001b[0m\n\u001b[1;32m      2\u001b[0m fruits \u001b[38;5;241m=\u001b[39m []\n\u001b[1;32m      3\u001b[0m \u001b[38;5;28;01mfor\u001b[39;00m profile \u001b[38;5;129;01min\u001b[39;00m profiles:\n\u001b[0;32m----> 4\u001b[0m     fruits\u001b[38;5;241m.\u001b[39mappend(\u001b[43mprofiles\u001b[49m\u001b[43m[\u001b[49m\u001b[38;5;124;43m'\u001b[39;49m\u001b[38;5;124;43mfavoriteFruit\u001b[39;49m\u001b[38;5;124;43m'\u001b[39;49m\u001b[43m]\u001b[49m)\n",
      "\u001b[0;31mTypeError\u001b[0m: list indices must be integers or slices, not str"
     ]
    }
   ],
   "source": [
    "# not my answer\n",
    "fruits = []\n",
    "for profile in profiles:\n",
    "    fruits.append(profiles['favoriteFruit'])"
   ]
  },
  {
   "cell_type": "code",
   "execution_count": null,
   "id": "45b4c1fe",
   "metadata": {},
   "outputs": [],
   "source": [
    "# Total number of unread messages for all users"
   ]
  },
  {
   "cell_type": "code",
   "execution_count": 19,
   "id": "c14c080b",
   "metadata": {},
   "outputs": [],
   "source": [
    "message = profile['greeting'].split(' ')"
   ]
  },
  {
   "cell_type": "code",
   "execution_count": 20,
   "id": "2fc214fb",
   "metadata": {},
   "outputs": [
    {
     "data": {
      "text/plain": [
       "['Hello,', 'Hebert', 'Estes!', 'You', 'have', '4', 'unread', 'messages.']"
      ]
     },
     "execution_count": 20,
     "metadata": {},
     "output_type": "execute_result"
    }
   ],
   "source": [
    "message"
   ]
  },
  {
   "cell_type": "code",
   "execution_count": 21,
   "id": "da7dcbfa",
   "metadata": {},
   "outputs": [
    {
     "name": "stdout",
     "output_type": "stream",
     "text": [
      "this is a number 4\n"
     ]
    }
   ],
   "source": [
    "for word in message:\n",
    "    if word.isdigit():\n",
    "        print('this is a number', word)"
   ]
  },
  {
   "cell_type": "code",
   "execution_count": 26,
   "id": "d75eab01",
   "metadata": {},
   "outputs": [
    {
     "ename": "TypeError",
     "evalue": "list indices must be integers or slices, not str",
     "output_type": "error",
     "traceback": [
      "\u001b[0;31m---------------------------------------------------------------------------\u001b[0m",
      "\u001b[0;31mTypeError\u001b[0m                                 Traceback (most recent call last)",
      "Input \u001b[0;32mIn [26]\u001b[0m, in \u001b[0;36m<cell line: 2>\u001b[0;34m()\u001b[0m\n\u001b[1;32m      1\u001b[0m sum_messages \u001b[38;5;241m=\u001b[39m \u001b[38;5;241m0\u001b[39m \n\u001b[1;32m      2\u001b[0m \u001b[38;5;28;01mfor\u001b[39;00m profile \u001b[38;5;129;01min\u001b[39;00m profiles:\n\u001b[0;32m----> 3\u001b[0m     message \u001b[38;5;241m=\u001b[39m \u001b[43mprofiles\u001b[49m\u001b[43m[\u001b[49m\u001b[38;5;124;43m'\u001b[39;49m\u001b[38;5;124;43mgretting\u001b[39;49m\u001b[38;5;124;43m'\u001b[39;49m\u001b[43m]\u001b[49m\u001b[38;5;241m.\u001b[39msplit(\u001b[38;5;124m'\u001b[39m\u001b[38;5;124m \u001b[39m\u001b[38;5;124m'\u001b[39m)\n\u001b[1;32m      4\u001b[0m     \u001b[38;5;28;01mfor\u001b[39;00m word \u001b[38;5;129;01min\u001b[39;00m message:\n\u001b[1;32m      5\u001b[0m         \u001b[38;5;28;01mif\u001b[39;00m word\u001b[38;5;241m.\u001b[39misdigit():\n",
      "\u001b[0;31mTypeError\u001b[0m: list indices must be integers or slices, not str"
     ]
    }
   ],
   "source": [
    "sum_messages = 0 \n",
    "for profile in profiles:\n",
    "    message = profiles['gretting'].split(' ')\n",
    "    for word in message:\n",
    "        if word.isdigit():\n",
    "            sum_messages = sum_messages + int(word)"
   ]
  },
  {
   "cell_type": "code",
   "execution_count": null,
   "id": "5fe784d3",
   "metadata": {},
   "outputs": [],
   "source": []
  }
 ],
 "metadata": {
  "kernelspec": {
   "display_name": "Python 3 (ipykernel)",
   "language": "python",
   "name": "python3"
  },
  "language_info": {
   "codemirror_mode": {
    "name": "ipython",
    "version": 3
   },
   "file_extension": ".py",
   "mimetype": "text/x-python",
   "name": "python",
   "nbconvert_exporter": "python",
   "pygments_lexer": "ipython3",
   "version": "3.9.13"
  }
 },
 "nbformat": 4,
 "nbformat_minor": 5
}
